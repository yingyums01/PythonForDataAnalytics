{
 "cells": [
  {
   "cell_type": "markdown",
   "metadata": {
    "colab_type": "text",
    "id": "a8lLRXXxHTBj",
    "nbgrader": {
     "grade": false,
     "locked": true,
     "solution": false
    }
   },
   "source": [
    "## Section 1"
   ]
  },
  {
   "cell_type": "code",
   "execution_count": 1,
   "metadata": {
    "colab": [],
    "colab_type": "code",
    "id": "jd6m9WstHTBn"
   },
   "outputs": [
    {
     "data": {
      "text/plain": [
       "'I do so like green eggs and ham! Thank you! Thank you, Sam-I-am!'"
      ]
     },
     "execution_count": 1,
     "metadata": {},
     "output_type": "execute_result"
    }
   ],
   "source": [
    "# PROBLEM 1\n",
    "# - Manipulate the following str object using str methods\n",
    "#   until it says the following: \n",
    "#   I do so like green eggs and ham! Thank you! Thank you, Sam-I-am!\n",
    "\n",
    "# NOTE: You can not simply replace the entire string with one call \n",
    "# to str.replace() or simple assignment. Clever if you thought of \n",
    "# that though. ;) Other than that, you are free to pursue\n",
    "# any combination of operations.\n",
    "\n",
    "# - Print out your result.\n",
    "\n",
    "starting_str = \"I DO not like GreEN eggs and HAM? CuRse you@ Curse you*, Sam-Thy-Am!\"\n",
    "starting_str = starting_str.capitalize()\n",
    "my_dict = {'not':'so','curse':'Thank','?':'!','@':'!','*':'','sam-thy-am':'Sam-I-am'}\n",
    "\n",
    "for keys, values in my_dict.items():\n",
    "    starting_str = starting_str.replace(keys,values)\n",
    "starting_str\n"
   ]
  },
  {
   "cell_type": "code",
   "execution_count": 2,
   "metadata": {
    "colab": [],
    "colab_type": "code",
    "id": "BGnqyO7kHTB3"
   },
   "outputs": [
    {
     "name": "stdout",
     "output_type": "stream",
     "text": [
      "['Voldemort', 'Hogwart', 'Harry Potter']\n"
     ]
    }
   ],
   "source": [
    "# PROBLEM 2\n",
    "# - Using str and list methods/operations, generate a list that\n",
    "#   extracts the following elements from the provided string (below):\n",
    "#   ['Voldemort', 'Hogwarts', 'Harry Potter']\n",
    "\n",
    "# - Assign you results to `finished_list` and print it\n",
    "# - You cannot use simple assignment to accomplish this.\n",
    "starting_str = \"Voldemort, comes to Hogarts, to kill Harry Potter\"\n",
    "\n",
    "#search for and keep string and number that the length is one or longer\n",
    "import re\n",
    "my_str = re.findall(r\"[\\w]+\", starting_str)\n",
    "\n",
    "\n",
    "finished_list=[]\n",
    "length = len(my_str)\n",
    "for i in range(length) :\n",
    "    if my_str[i].istitle():\n",
    "        finished_list.append(my_str[i])\n",
    "\n",
    "finished_list[2:4] = [' '.join(finished_list[2:4])]\n",
    "finished_list[1] = 'Hogwart'\n",
    "print(finished_list)"
   ]
  },
  {
   "cell_type": "code",
   "execution_count": 4,
   "metadata": {
    "colab": [],
    "colab_type": "code",
    "id": "RaxylPqQHTCD"
   },
   "outputs": [
    {
     "name": "stdout",
     "output_type": "stream",
     "text": [
      "Your list is: ['Voldemort', 'Hogwart', 'Harry Potter']. It contains 3 elements.\n"
     ]
    }
   ],
   "source": [
    "# PROBLEM 3\n",
    "# - Determine how many elements there are in your list programmatically.\n",
    "\n",
    "length = len(finished_list)\n",
    "print(\"Your list is: {}. It contains {} elements.\".format(finished_list,length))\n"
   ]
  },
  {
   "cell_type": "code",
   "execution_count": 5,
   "metadata": {
    "colab": [],
    "colab_type": "code",
    "id": "74_GhaHEHTCP"
   },
   "outputs": [
    {
     "name": "stdout",
     "output_type": "stream",
     "text": [
      "No, the last element of your list is not a `float` object\n"
     ]
    }
   ],
   "source": [
    "# PROBLEM 4\n",
    "# - Ask Python to tell you if the last element of your\n",
    "#   list is a `float` object.\n",
    "\n",
    "if isinstance(finished_list[-1],float):\n",
    "    print(\"Yes, the last element of your list is a `float` object\")\n",
    "else:\n",
    "    print(\"No, the last element of your list is not a `float` object\")"
   ]
  },
  {
   "cell_type": "code",
   "execution_count": 6,
   "metadata": {
    "colab": [],
    "colab_type": "code",
    "id": "n9H6UsKcHTCg"
   },
   "outputs": [
    {
     "name": "stdout",
     "output_type": "stream",
     "text": [
      "Hogwart\n"
     ]
    }
   ],
   "source": [
    "# PROBLEM 5\n",
    "# - Print out the 2nd element of your list\n",
    "print(finished_list[1])"
   ]
  },
  {
   "cell_type": "code",
   "execution_count": 7,
   "metadata": {
    "colab": [],
    "colab_type": "code",
    "id": "TzEb3fzZHTCt"
   },
   "outputs": [
    {
     "data": {
      "text/plain": [
       "['__add__',\n",
       " '__class__',\n",
       " '__contains__',\n",
       " '__delattr__',\n",
       " '__delitem__',\n",
       " '__dir__',\n",
       " '__doc__',\n",
       " '__eq__',\n",
       " '__format__',\n",
       " '__ge__',\n",
       " '__getattribute__',\n",
       " '__getitem__',\n",
       " '__gt__',\n",
       " '__hash__',\n",
       " '__iadd__',\n",
       " '__imul__',\n",
       " '__init__',\n",
       " '__init_subclass__',\n",
       " '__iter__',\n",
       " '__le__',\n",
       " '__len__',\n",
       " '__lt__',\n",
       " '__mul__',\n",
       " '__ne__',\n",
       " '__new__',\n",
       " '__reduce__',\n",
       " '__reduce_ex__',\n",
       " '__repr__',\n",
       " '__reversed__',\n",
       " '__rmul__',\n",
       " '__setattr__',\n",
       " '__setitem__',\n",
       " '__sizeof__',\n",
       " '__str__',\n",
       " '__subclasshook__',\n",
       " 'append',\n",
       " 'clear',\n",
       " 'copy',\n",
       " 'count',\n",
       " 'extend',\n",
       " 'index',\n",
       " 'insert',\n",
       " 'pop',\n",
       " 'remove',\n",
       " 'reverse',\n",
       " 'sort']"
      ]
     },
     "execution_count": 7,
     "metadata": {},
     "output_type": "execute_result"
    }
   ],
   "source": [
    "# PROBLEM 6\n",
    "# - How could you find all the available methods of your list object?\n",
    "dir(finished_list)"
   ]
  },
  {
   "cell_type": "code",
   "execution_count": 8,
   "metadata": {
    "colab": [],
    "colab_type": "code",
    "id": "qbaASM2BHTC8"
   },
   "outputs": [
    {
     "name": "stdout",
     "output_type": "stream",
     "text": [
      "Help on list object:\n",
      "\n",
      "class list(object)\n",
      " |  list() -> new empty list\n",
      " |  list(iterable) -> new list initialized from iterable's items\n",
      " |  \n",
      " |  Methods defined here:\n",
      " |  \n",
      " |  __add__(self, value, /)\n",
      " |      Return self+value.\n",
      " |  \n",
      " |  __contains__(self, key, /)\n",
      " |      Return key in self.\n",
      " |  \n",
      " |  __delitem__(self, key, /)\n",
      " |      Delete self[key].\n",
      " |  \n",
      " |  __eq__(self, value, /)\n",
      " |      Return self==value.\n",
      " |  \n",
      " |  __ge__(self, value, /)\n",
      " |      Return self>=value.\n",
      " |  \n",
      " |  __getattribute__(self, name, /)\n",
      " |      Return getattr(self, name).\n",
      " |  \n",
      " |  __getitem__(...)\n",
      " |      x.__getitem__(y) <==> x[y]\n",
      " |  \n",
      " |  __gt__(self, value, /)\n",
      " |      Return self>value.\n",
      " |  \n",
      " |  __iadd__(self, value, /)\n",
      " |      Implement self+=value.\n",
      " |  \n",
      " |  __imul__(self, value, /)\n",
      " |      Implement self*=value.\n",
      " |  \n",
      " |  __init__(self, /, *args, **kwargs)\n",
      " |      Initialize self.  See help(type(self)) for accurate signature.\n",
      " |  \n",
      " |  __iter__(self, /)\n",
      " |      Implement iter(self).\n",
      " |  \n",
      " |  __le__(self, value, /)\n",
      " |      Return self<=value.\n",
      " |  \n",
      " |  __len__(self, /)\n",
      " |      Return len(self).\n",
      " |  \n",
      " |  __lt__(self, value, /)\n",
      " |      Return self<value.\n",
      " |  \n",
      " |  __mul__(self, value, /)\n",
      " |      Return self*value.n\n",
      " |  \n",
      " |  __ne__(self, value, /)\n",
      " |      Return self!=value.\n",
      " |  \n",
      " |  __new__(*args, **kwargs) from builtins.type\n",
      " |      Create and return a new object.  See help(type) for accurate signature.\n",
      " |  \n",
      " |  __repr__(self, /)\n",
      " |      Return repr(self).\n",
      " |  \n",
      " |  __reversed__(...)\n",
      " |      L.__reversed__() -- return a reverse iterator over the list\n",
      " |  \n",
      " |  __rmul__(self, value, /)\n",
      " |      Return self*value.\n",
      " |  \n",
      " |  __setitem__(self, key, value, /)\n",
      " |      Set self[key] to value.\n",
      " |  \n",
      " |  __sizeof__(...)\n",
      " |      L.__sizeof__() -- size of L in memory, in bytes\n",
      " |  \n",
      " |  append(...)\n",
      " |      L.append(object) -> None -- append object to end\n",
      " |  \n",
      " |  clear(...)\n",
      " |      L.clear() -> None -- remove all items from L\n",
      " |  \n",
      " |  copy(...)\n",
      " |      L.copy() -> list -- a shallow copy of L\n",
      " |  \n",
      " |  count(...)\n",
      " |      L.count(value) -> integer -- return number of occurrences of value\n",
      " |  \n",
      " |  extend(...)\n",
      " |      L.extend(iterable) -> None -- extend list by appending elements from the iterable\n",
      " |  \n",
      " |  index(...)\n",
      " |      L.index(value, [start, [stop]]) -> integer -- return first index of value.\n",
      " |      Raises ValueError if the value is not present.\n",
      " |  \n",
      " |  insert(...)\n",
      " |      L.insert(index, object) -- insert object before index\n",
      " |  \n",
      " |  pop(...)\n",
      " |      L.pop([index]) -> item -- remove and return item at index (default last).\n",
      " |      Raises IndexError if list is empty or index is out of range.\n",
      " |  \n",
      " |  remove(...)\n",
      " |      L.remove(value) -> None -- remove first occurrence of value.\n",
      " |      Raises ValueError if the value is not present.\n",
      " |  \n",
      " |  reverse(...)\n",
      " |      L.reverse() -- reverse *IN PLACE*\n",
      " |  \n",
      " |  sort(...)\n",
      " |      L.sort(key=None, reverse=False) -> None -- stable sort *IN PLACE*\n",
      " |  \n",
      " |  ----------------------------------------------------------------------\n",
      " |  Data and other attributes defined here:\n",
      " |  \n",
      " |  __hash__ = None\n",
      "\n"
     ]
    }
   ],
   "source": [
    "# PROBLEM 7\n",
    "# - How could you ask for information about your object?\n",
    "# - There are multiple correct answers to this.\n",
    "finished_list?\n",
    "finished_list??\n",
    "help(finished_list)"
   ]
  },
  {
   "cell_type": "code",
   "execution_count": 9,
   "metadata": {
    "colab": [],
    "colab_type": "code",
    "id": "JJzR3K6SHTDF"
   },
   "outputs": [
    {
     "name": "stdout",
     "output_type": "stream",
     "text": [
      "['Hello', 'future', 'Python', 'master']\n"
     ]
    }
   ],
   "source": [
    "# PROBLEM 8\n",
    "# - Starting with this list, remove all the int/float values\n",
    "# - Print out your final results\n",
    "p8_list = ['Hello', 4.5, 'future', 587234, 'Python', -237.3, 'master']\n",
    "for i in p8_list:\n",
    "    if isinstance(i,float) | isinstance(i,int):\n",
    "        p8_list.remove(i)\n",
    "print(p8_list)"
   ]
  },
  {
   "cell_type": "code",
   "execution_count": 10,
   "metadata": {
    "colab": [],
    "colab_type": "code",
    "id": "pHL8EYaNHTDR"
   },
   "outputs": [
    {
     "name": "stdout",
     "output_type": "stream",
     "text": [
      "[-1, -2, -3, -4, -5]\n"
     ]
    }
   ],
   "source": [
    "# PROBLEM 9\n",
    "# - Create a new list that only has the negative numbers from \n",
    "#   this list. \n",
    "# - HINT: There is long way and a short way to \n",
    "#   do this. Review your reading and try to find the short way.\n",
    "\n",
    "# Print out your final result\n",
    "p9_list = [1, -1, 2, -2, 3, -3, 4, -4, 5, -5]\n",
    "for i in p9_list:\n",
    "    if i>=0:\n",
    "        p9_list.remove(i)\n",
    "print(p9_list)"
   ]
  },
  {
   "cell_type": "code",
   "execution_count": 11,
   "metadata": {
    "colab": [],
    "colab_type": "code",
    "id": "Zwl20EZMHTDi",
    "nbgrader": {
     "grade": false,
     "locked": false,
     "solution": false
    }
   },
   "outputs": [
    {
     "name": "stdout",
     "output_type": "stream",
     "text": [
      "{'ID': ['id01', 'id02'], 'Name': ['Doris', 'YuYu'], 'Age': [26, 24]}\n"
     ]
    }
   ],
   "source": [
    "# PROBLEM 10\n",
    "# - Create a dictionary with key/value pairs about \n",
    "#   yourself. You must have at least 3 key/value pairs.\n",
    "#   Save your results to `p10_results` and print them.\n",
    "p10_results = {'ID':['id01','id02'],'Name':['Doris','YuYu'],'Age':[26,24]}\n",
    "print(p10_results)"
   ]
  },
  {
   "cell_type": "code",
   "execution_count": 12,
   "metadata": {
    "colab": [],
    "colab_type": "code",
    "id": "Dp6iPa9sHTDw",
    "nbgrader": {
     "grade": false,
     "locked": false,
     "solution": false
    }
   },
   "outputs": [
    {
     "name": "stdout",
     "output_type": "stream",
     "text": [
      "{'ID': ['id01', 'id02'], 'Name': ['Doris', 'YuYu'], 'Age': [28, 24], 'Gender': ['Female', 'Male'], 'Score': [100, 95]}\n"
     ]
    }
   ],
   "source": [
    "# PROBLEM 11\n",
    "# - Add at least two new key/value pairs to your `p10_results`\n",
    "#   dict object. Also, modify the value of another key.\n",
    "# - After you perform the tasks, reprint your object.\n",
    "p10_results['Gender']=['Female','Male']\n",
    "p10_results['Score']=[100,95]\n",
    "#modify one value in Age\n",
    "p10_results['Age'][0]=28\n",
    "print(p10_results)"
   ]
  },
  {
   "cell_type": "code",
   "execution_count": 13,
   "metadata": {
    "colab": [],
    "colab_type": "code",
    "id": "GzkiZRFUHTD5",
    "nbgrader": {
     "grade": false,
     "locked": false,
     "solution": false
    }
   },
   "outputs": [
    {
     "name": "stdout",
     "output_type": "stream",
     "text": [
      "{'ID': ['id01', 'id02'], 'Name': ['Doris', 'YuYu'], 'Age': [28, 24], 'Gender': ['Female', 'Male'], 'Score': [100, 95], 'future': 'CEO', 'skills': ['Python Wizard', 'Analysis Guru']}\n"
     ]
    }
   ],
   "source": [
    "# PROBLEM 12\n",
    "# - Take the following dict and update your current\n",
    "#   p10_results object with it.\n",
    "\n",
    "# Print out your updated dict object\n",
    "merge_dict = {'future': 'CEO', 'skills': ['Python Wizard', 'Analysis Guru']}\n",
    "p10_results.update(merge_dict)\n",
    "print(p10_results)"
   ]
  },
  {
   "cell_type": "code",
   "execution_count": 14,
   "metadata": {
    "colab": [],
    "colab_type": "code",
    "id": "0JLWHm-3HTEE"
   },
   "outputs": [
    {
     "name": "stdout",
     "output_type": "stream",
     "text": [
      "{'ID': ['id01', 'id02'], 'Age': [28, 24], 'Score': [100, 95], 'skills': ['Python Wizard', 'Analysis Guru']}\n"
     ]
    }
   ],
   "source": [
    "# PROBLEM 13\n",
    "# - Remove at least 2 keys from your p10_results dict object\n",
    "# - Print your updated p10_results objects\n",
    "for i in ['future','Name','Gender']:\n",
    "    p10_results.pop(i)\n",
    "print(p10_results)"
   ]
  },
  {
   "cell_type": "code",
   "execution_count": 15,
   "metadata": {
    "colab": [],
    "colab_type": "code",
    "id": "NGTi02kxM37c"
   },
   "outputs": [
    {
     "name": "stdout",
     "output_type": "stream",
     "text": [
      "{1, 2, 3, 4, 5, 6, 7, 8, 9} {2, 4, 6, 8, 10, 12, 14, 16}\n"
     ]
    }
   ],
   "source": [
    "# PROBLEM 14\n",
    "# - Take the following 2 tuples of numbers and convert them to sets.\n",
    "# - Assign them the names set_1 and set_2\n",
    "tuple_1 = (1, 2, 3, 4, 5, 6, 7, 8, 9)\n",
    "tuple_2 = (2, 4, 6, 8, 10, 12, 14, 16)\n",
    "set_1 = set(tuple_1)\n",
    "set_2 = set(tuple_2)\n",
    "print(set_1,set_2)"
   ]
  },
  {
   "cell_type": "code",
   "execution_count": null,
   "metadata": {
    "collapsed": true
   },
   "outputs": [],
   "source": []
  }
 ],
 "metadata": {
  "colab": {
   "collapsed_sections": [],
   "name": "A1.1 - Data Types, Statements, and Operators.ipynb",
   "provenance": [],
   "version": "0.3.2"
  },
  "kernelspec": {
   "display_name": "Python 3",
   "language": "python",
   "name": "python3"
  },
  "language_info": {
   "codemirror_mode": {
    "name": "ipython",
    "version": 3
   },
   "file_extension": ".py",
   "mimetype": "text/x-python",
   "name": "python",
   "nbconvert_exporter": "python",
   "pygments_lexer": "ipython3",
   "version": "3.7.3"
  }
 },
 "nbformat": 4,
 "nbformat_minor": 1
}
