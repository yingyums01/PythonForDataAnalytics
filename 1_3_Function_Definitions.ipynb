{
 "cells": [
  {
   "cell_type": "code",
   "execution_count": 1,
   "metadata": {
    "colab": [],
    "colab_type": "code",
    "id": "gpEKT_A21mG8"
   },
   "outputs": [
    {
     "data": {
      "text/plain": [
       "111"
      ]
     },
     "execution_count": 1,
     "metadata": {},
     "output_type": "execute_result"
    }
   ],
   "source": [
    "# PROBLEM 1\n",
    "# - Define a function that returns the sum 61 + 50\n",
    "# - Execute it\n",
    "# - Don't accidently overwrite the built-in sum() function\n",
    "#   by using that name for your function\n",
    "\n",
    "#\n",
    "# YOUR CODE HERE\n",
    "#\n",
    "def my_sum():\n",
    "    return(61+50)\n",
    "my_sum()"
   ]
  },
  {
   "cell_type": "code",
   "execution_count": 3,
   "metadata": {
    "colab": [],
    "colab_type": "code",
    "id": "aIiCjuaO2HSa"
   },
   "outputs": [
    {
     "name": "stdout",
     "output_type": "stream",
     "text": [
      "Enter the first number: 30.5\n",
      "Enter the second number: 40.6\n"
     ]
    },
    {
     "data": {
      "text/plain": [
       "71.1"
      ]
     },
     "execution_count": 3,
     "metadata": {},
     "output_type": "execute_result"
    }
   ],
   "source": [
    "# PROBLEM 2\n",
    "# - Update your function so that it takes two parameters. One\n",
    "#   for each of the numbers that you will add together.\n",
    "# - Execute your function\n",
    "\n",
    "#\n",
    "# YOUR CODE HERE\n",
    "#\n",
    "def my_sum(x,y):\n",
    "    return(x+y)\n",
    "a = float(input(\"Enter the first number: \"))\n",
    "b = float(input(\"Enter the second number: \"))\n",
    "my_sum(a,b)"
   ]
  },
  {
   "cell_type": "code",
   "execution_count": 5,
   "metadata": {
    "colab": [],
    "colab_type": "code",
    "id": "9sGYkSEe27oN"
   },
   "outputs": [
    {
     "name": "stdout",
     "output_type": "stream",
     "text": [
      "Enter the first number: 3.5\n",
      "Enter the second number: 6.7\n"
     ]
    },
    {
     "data": {
      "text/plain": [
       "[10.2, 23.45]"
      ]
     },
     "execution_count": 5,
     "metadata": {},
     "output_type": "execute_result"
    }
   ],
   "source": [
    "# PROBLEM 3\n",
    "# - Update your function so that it returns multiple values in a list:\n",
    "#   - The sum of the numbers\n",
    "#   - The product of the numbers\n",
    "\n",
    "#\n",
    "# YOUR CODE HERE\n",
    "#\n",
    "def my_sum(x,y):\n",
    "    my_list = []\n",
    "    my_list.append(x+y)\n",
    "    my_list.append(x*y)\n",
    "    return(my_list)\n",
    "a = float(input(\"Enter the first number: \"))\n",
    "b = float(input(\"Enter the second number: \"))\n",
    "my_sum(a,b)"
   ]
  },
  {
   "cell_type": "code",
   "execution_count": 6,
   "metadata": {
    "colab": [],
    "colab_type": "code",
    "id": "veI52y-Z4RNi"
   },
   "outputs": [
    {
     "name": "stdout",
     "output_type": "stream",
     "text": [
      "Enter the first number: 30\n"
     ]
    },
    {
     "data": {
      "text/plain": [
       "[35.0, 150.0]"
      ]
     },
     "execution_count": 6,
     "metadata": {},
     "output_type": "execute_result"
    }
   ],
   "source": [
    "# PROBLEM 4\n",
    "# - Update your function so that it has a default value\n",
    "#   for it's second parameter.\n",
    "\n",
    "#\n",
    "# YOUR CODE HERE\n",
    "#\n",
    "\n",
    "def my_sum(x,y=5):\n",
    "    my_list = []\n",
    "    my_list.append(x+y)\n",
    "    my_list.append(x*y)\n",
    "    return(my_list)\n",
    "a = float(input(\"Enter the first number: \"))\n",
    "my_sum(a)"
   ]
  },
  {
   "cell_type": "code",
   "execution_count": null,
   "metadata": {
    "collapsed": true
   },
   "outputs": [],
   "source": []
  }
 ],
 "metadata": {
  "colab": {
   "collapsed_sections": [],
   "name": "A1.3 Function Definitions.ipynb",
   "provenance": [],
   "version": "0.3.2"
  },
  "kernelspec": {
   "display_name": "Python 3",
   "language": "python",
   "name": "python3"
  },
  "language_info": {
   "codemirror_mode": {
    "name": "ipython",
    "version": 3
   },
   "file_extension": ".py",
   "mimetype": "text/x-python",
   "name": "python",
   "nbconvert_exporter": "python",
   "pygments_lexer": "ipython3",
   "version": "3.7.3"
  }
 },
 "nbformat": 4,
 "nbformat_minor": 1
}
