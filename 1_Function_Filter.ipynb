{
 "cells": [
  {
   "cell_type": "markdown",
   "metadata": {
    "colab_type": "text",
    "id": "SSUWi70iGDf9"
   },
   "source": [
    "### Important Note\n",
    "Given the nature of this assignment, it will be difficult to skip around between questions. Each question builds on the previous one so it is important to get each question correct."
   ]
  },
  {
   "cell_type": "markdown",
   "metadata": {
    "colab_type": "text",
    "id": "ZKp-Mcoq49-S"
   },
   "source": [
    "## Step 1: Welcome your Customers (1 point)"
   ]
  },
  {
   "cell_type": "code",
   "execution_count": 2,
   "metadata": {
    "colab": {},
    "colab_type": "code",
    "id": "6gi-3ZBW49-U"
   },
   "outputs": [
    {
     "name": "stdout",
     "output_type": "stream",
     "text": [
      "Hello \n",
      " Welcome to the page! \n",
      " We have waited so long to have you. \n",
      " At last, the time has come.\n",
      "We are most delightfully welcoming you to join us today!\n"
     ]
    }
   ],
   "source": [
    "# PROBLEM 1\n",
    "# - Print out a welcome message to your customers.\n",
    "# - If you want to include line breaks in your text\n",
    "#   use \\n in the code for each line break\n",
    "# - Alternatively, you use multiple print statements\n",
    "\n",
    "print(\"Hello \\n Welcome to the page! \\n We have waited so long to have you. \\n At last, the time has come.\")\n",
    "print(\"We are most delightfully welcoming you to join us today!\")"
   ]
  },
  {
   "cell_type": "markdown",
   "metadata": {
    "colab_type": "text",
    "id": "t5QxLaUU49-o"
   },
   "source": [
    "## Step 2: Decide which Data Type/Class to Use (4 points)\n",
    "You are going to need to decide what type of object you will use to keep track of customer orders. We've covered two data types that could work: `list` and `dict`. \n",
    "* How do you want to identify an order? By an index value or by a key name? That should determine which data type to use.\n",
    "* Assign the empty `list` or `dict` you create to the name `orders`"
   ]
  },
  {
   "cell_type": "code",
   "execution_count": 2,
   "metadata": {
    "colab": {},
    "colab_type": "code",
    "id": "C7OJyaFB49-r"
   },
   "outputs": [
    {
     "data": {
      "text/plain": [
       "{}"
      ]
     },
     "execution_count": 2,
     "metadata": {},
     "output_type": "execute_result"
    }
   ],
   "source": [
    "# PROBLEM 1\n",
    "# - Define your empty container object (list or dict) \n",
    "#   here to hold your customer orders.\n",
    "orders = {}\n",
    "orders"
   ]
  },
  {
   "cell_type": "markdown",
   "metadata": {
    "colab_type": "text",
    "id": "bnzKu_kL49-4"
   },
   "source": [
    "## Step 3: customer_directive() Function (15 points)\n",
    "In this step you will write a function that asks the user if they want to place a new order or lookup an existing order. Once they respond, the function must evaluate their input and return one of the following strings: \n",
    "* 'new order'\n",
    "* 'display orders'\n",
    "* 'invalid input'\n",
    "* 'quit program'\n",
    "\n",
    "If you pass a string to the `input()` function, it will present that string as instructions for the user. \n",
    "\n",
    "You'll need to tell them what are the valid inputs. The user will need to be informed as to what input will (1) start a new order, (2) present existing orders, or (3) quit the program. Anything other than these specificed inputs should results in \"invalid input\" being returned from the function.\n",
    "\n",
    "**Hint**: Just like with `print()` you can put `\\n` in the string you pass to `input()` to\n",
    "put line breaks in the instructions."
   ]
  },
  {
   "cell_type": "code",
   "execution_count": 13,
   "metadata": {
    "colab": {},
    "colab_type": "code",
    "id": "Q4PeZdTw49-7"
   },
   "outputs": [
    {
     "name": "stdout",
     "output_type": "stream",
     "text": [
      "Please enter your requirement. You can: \n",
      " (1) start a new order: by entering '1'. \n",
      " (2) present existing orders: by entering '2'. \n",
      " (3) quit the program: by entering '3'\n",
      "djk\n"
     ]
    },
    {
     "data": {
      "text/plain": [
       "'invalid input'"
      ]
     },
     "execution_count": 13,
     "metadata": {},
     "output_type": "execute_result"
    }
   ],
   "source": [
    "# PROBLEM 1\n",
    "# Write your `customer_directive()` function here\n",
    "def customer_directive():\n",
    "    my_in = input(\"Please enter your requirement. You can: \\n (1) start a new order: by entering '1'. \\n (2) present existing orders: by entering '2'. \\n (3) quit the program: by entering '3'\\n\")\n",
    "    # I just regard the input 1 or 2 or 3 as a string below\n",
    "    if my_in == '1':\n",
    "        return('new order')\n",
    "    elif my_in == '2':\n",
    "        return('display orders')\n",
    "    elif my_in == '3':\n",
    "        return('quit program')\n",
    "    else:\n",
    "        return('invalid input')\n",
    "\n",
    "customer_directive()\n"
   ]
  },
  {
   "cell_type": "markdown",
   "metadata": {
    "colab_type": "text",
    "id": "unNGuwBV49_J"
   },
   "source": [
    "## Step 4: Stop to Organize a Bit (5 Points)\n",
    "So, before things get any more complicated let's talk about how you should organize your program.\n",
    "* All function definitions should go at the top so that you can easily see all of them.\n",
    "* Then your empty data structure creation \n",
    "* Then your welcome message\n",
    "* Then what we are about to do.\n",
    "\n",
    "Just to help you keep things straight for the rest of this assignment, I'd like you to put all your code in each answer cell. That way, you'll be able to view it all at once in each step and it will be more understandable when I tell you to put something in a specific location.\n",
    "\n",
    "So, in the next cell, arrange your code as I've specified above. Then for each subsequent problem, copy the code from the previous cell and continue your work."
   ]
  },
  {
   "cell_type": "code",
   "execution_count": 15,
   "metadata": {
    "colab": {},
    "colab_type": "code",
    "id": "WEN4VkzJ49_O"
   },
   "outputs": [
    {
     "name": "stdout",
     "output_type": "stream",
     "text": [
      "Hello \n",
      " Welcome to the page! \n",
      " We have waited so long to have you. \n",
      " At last, the time has come.\n",
      " We are most delightfully welcoming you to join us today!\n"
     ]
    }
   ],
   "source": [
    "# PROBLEM 1\n",
    "# All Function Definitions go here\n",
    "def customer_directive():\n",
    "    my_in = input(\"Please enter your requirement. You can: \\n (1) start a new order: by entering '1'. \\n (2) present existing orders: by entering '2'. \\n (3) quit the program: by entering '3'\\n\")\n",
    "    # I just regard the input 1 or 2 or 3 as a string below\n",
    "    if my_in == '1':\n",
    "        return('new order')\n",
    "    elif my_in == '2':\n",
    "        return('display orders')\n",
    "    elif my_in == '3':\n",
    "        return('quit program')\n",
    "    else:\n",
    "        return('invalid input')\n",
    "# Create your empty data structure to hold your orders\n",
    "orders = {}\n",
    "\n",
    "# Display your welcome message\n",
    "print(\"Hello \\n Welcome to the page! \\n We have waited so long to have you. \\n At last, the time has come.\")\n",
    "print(\" We are most delightfully welcoming you to join us today!\")"
   ]
  },
  {
   "cell_type": "markdown",
   "metadata": {
    "colab_type": "text",
    "id": "wmafSgKN49_f"
   },
   "source": [
    "## Step 5: Execute `customer_directive` in a Conditional Loop (15 points)\n",
    "So, after you display your welcome message, you need to start a loop that will continually run until the customer decides to end the program.  \n",
    "\n",
    "**IMPORTANT! ** We will refer to this loop as the **\"main program loop\"** in future instructions.\n",
    "\n",
    "* Create a loop that executes `customer_directive()` and captures it's return value.\n",
    "* Evaluate the return value and take the following actions:\n",
    "    * if it is \"new order\": `pass`\n",
    "    * if it is \"display orders\": `pass`\n",
    "    * if it is \"invalid input\": tell the customer their input was invalid and continue to the next loop iteration\n",
    "    * if it is \"quit program\": Say goodbye to the customer and break the loop.\n",
    "    \n",
    "* HINT: This isn't necessary, but you might want to put line breaks at the start and end of your messages so that there is some whitespace between them for the user. Just a little UI advice."
   ]
  },
  {
   "cell_type": "markdown",
   "metadata": {
    "colab_type": "text",
    "id": "YwkSYfo-49_h"
   },
   "source": [
    "### Be Mindful!\n",
    "Once you start a loop around your call to `customer_directive` you will have to make sure that the `input()` is not waiting for a response before you move on or reexecute the cell. If you don't you will get the * of death.\n",
    "\n",
    "If you get the star of death, attempt to interrupt the notebook first.  If that doesn't solve the problem, restart the kernel. **DON'T RELOAD THE PAGE UNLESS YOU HAVE SAVED!!!**"
   ]
  },
  {
   "cell_type": "code",
   "execution_count": 31,
   "metadata": {
    "colab": {},
    "colab_type": "code",
    "id": "3ZdOV4Pj49_k"
   },
   "outputs": [
    {
     "name": "stdout",
     "output_type": "stream",
     "text": [
      "Hello \n",
      " Welcome to the page! \n",
      " We have waited so long to have you. \n",
      " At last, the time has come.\n",
      " We are most delightfully welcoming you to join us today!\n",
      "Please enter your requirement. You can: \n",
      " (1) start a new order: by entering '1'. \n",
      " (2) present existing orders: by entering '2'. \n",
      " (3) quit the program: by entering '3'\n",
      "3\n",
      "Goodbye\n"
     ]
    }
   ],
   "source": [
    "# PROBLEM 1\n",
    "# Copy your old code here and add the new parts\n",
    "\n",
    "# All Function Definitions go here\n",
    "def customer_directive():\n",
    "    my_in = input(\"Please enter your requirement. You can: \\n (1) start a new order: by entering '1'. \\n (2) present existing orders: by entering '2'. \\n (3) quit the program: by entering '3'\\n\")\n",
    "    # I just regard the input 1 or 2 or 3 as a string below\n",
    "    if my_in == '1':\n",
    "        return('new order')\n",
    "    elif my_in == '2':\n",
    "        return('display orders')\n",
    "    elif my_in == '3':\n",
    "        return('quit program')\n",
    "    else:\n",
    "        return('invalid input')\n",
    "    \n",
    "# Create your empty data structure to hold your orders\n",
    "orders = {}\n",
    "\n",
    "# Display your welcome message\n",
    "\n",
    "print(\"Hello \\n Welcome to the page! \\n We have waited so long to have you. \\n At last, the time has come.\")\n",
    "print(\" We are most delightfully welcoming you to join us today!\")\n",
    "\n",
    "\n",
    "a=0\n",
    "\n",
    "while a==0:\n",
    "    x = customer_directive()\n",
    "    if x==\"new order\":\n",
    "        pass\n",
    "    elif x==\"display orders\":\n",
    "        pass\n",
    "    elif x==\"invalid input\":\n",
    "        print(\"Your input was invalid. Please Enter again.\")\n",
    "        continue\n",
    "    elif x==\"quit program\":\n",
    "        print(\"Goodbye\")\n",
    "        break"
   ]
  },
  {
   "cell_type": "markdown",
   "metadata": {
    "colab_type": "text",
    "id": "ZMIHHqBG49_y"
   },
   "source": [
    "## Step 6: Start work on `take_order()` function (5 points)\n",
    "In this step, you are going to define a new function `take_order()` which you will call when the customer decides to place a new order.\n",
    "\n",
    "Steps:\n",
    "* Define a new function called `take_order()` and put it's definition just after the first function you defined.\n",
    "* It should take a single argument, which will your `orders` object (which is currently empty). Remember that this will be either a `list` or a `dict`, depending on your earlier choice.\n",
    "* Inside the function, take the following steps:\n",
    "    * Define an empty `dict`, called `order` which will represent the items in the new order.\n",
    "    * In the next step, we will add more to this function, but for now that is all you need to do.\n",
    "* In the *main program loop*, replace your `pass` statement with a call to `take_order()` when the `customer_directive()` has returned \"new order\"\n",
    "  "
   ]
  },
  {
   "cell_type": "code",
   "execution_count": 32,
   "metadata": {
    "colab": {},
    "colab_type": "code",
    "id": "rwMbah9o49_z"
   },
   "outputs": [
    {
     "name": "stdout",
     "output_type": "stream",
     "text": [
      "Hello \n",
      " Welcome to the page! \n",
      " We have waited so long to have you. \n",
      " At last, the time has come.\n",
      " We are most delightfully welcoming you to join us today!\n",
      "Please enter your requirement. You can: \n",
      " (1) start a new order: by entering '1'. \n",
      " (2) present existing orders: by entering '2'. \n",
      " (3) quit the program: by entering '3'\n",
      "1\n",
      "Please enter your requirement. You can: \n",
      " (1) start a new order: by entering '1'. \n",
      " (2) present existing orders: by entering '2'. \n",
      " (3) quit the program: by entering '3'\n",
      "2\n",
      "Please enter your requirement. You can: \n",
      " (1) start a new order: by entering '1'. \n",
      " (2) present existing orders: by entering '2'. \n",
      " (3) quit the program: by entering '3'\n",
      "3\n",
      "Goodbye\n"
     ]
    }
   ],
   "source": [
    "# PROBLEM 1\n",
    "# Copy your old code here and add the new parts\n",
    "# All Function Definitions go here\n",
    "def customer_directive():\n",
    "    my_in = input(\"Please enter your requirement. You can: \\n (1) start a new order: by entering '1'. \\n (2) present existing orders: by entering '2'. \\n (3) quit the program: by entering '3'\\n\")\n",
    "    # I just regard the input 1 or 2 or 3 as a string below\n",
    "    if my_in == '1':\n",
    "        return('new order')\n",
    "    elif my_in == '2':\n",
    "        return('display orders')\n",
    "    elif my_in == '3':\n",
    "        return('quit program')\n",
    "    else:\n",
    "        return('invalid input')\n",
    "\n",
    "    \n",
    "def take_order():\n",
    "    # Create your empty data structure to hold your orders\n",
    "    orders = {}\n",
    "\n",
    "# Display your welcome message\n",
    "\n",
    "print(\"Hello \\n Welcome to the page! \\n We have waited so long to have you. \\n At last, the time has come.\")\n",
    "print(\" We are most delightfully welcoming you to join us today!\")\n",
    "\n",
    "\n",
    "a=0\n",
    "\n",
    "while a==0:\n",
    "    x = customer_directive()\n",
    "    if x==\"new order\":\n",
    "        take_order()\n",
    "    elif x==\"display orders\":\n",
    "        pass\n",
    "    elif x==\"invalid input\":\n",
    "        print(\"Your input was invalid. Please Enter again.\")\n",
    "        continue\n",
    "    elif x==\"quit program\":\n",
    "        print(\"Goodbye\")\n",
    "        break"
   ]
  },
  {
   "cell_type": "markdown",
   "metadata": {
    "colab_type": "text",
    "id": "xYucq9Kr4-AJ",
    "nbgrader": {
     "grade": false,
     "locked": true,
     "solution": false
    }
   },
   "source": [
    "## Step 7: Taking Orders (35 Points)\n",
    "**Ok, this is the most complex step by far. It will take some time along with trial and error.**\n",
    "\n",
    "In this step, you are going to add code to your `take_order()` function:\n",
    "* To keep things simple, we are going to offer a very limited menu of 3-5 items. \n",
    "    * Think of what you want these items to be. If you were doing a program for McDonalds, you might offer burgers, drinks, and fries for example.\n",
    "        \n",
    "* For each menu item, ask the customer how many of them they would like.\n",
    "* Attempt to convert their `input` response to an integer with the `int()` function and assign the *value* to the `order` dict with the item name as the *key*. \n",
    "* That will generate an exception for all `input()` strings that can't be converted to an integer (remember that all input() values are initially strings).\n",
    "    * Handle exceptions by telling the user that their input was invalid and that you've marked them down for a large number of orders as a result.\n",
    "        * Assign that large *value* to the `order` dict with the item name as the *key*. \n",
    "        \n",
    "After you've gotten all the order information, you will need to add the `order` object to your `orders` object (list or dictionary):\n",
    "* If you are using a `dict` for your `orders` object, you need to get a key name for the order as a whole. Obtain this from the user and then assign the new `order` object as the *value* for the *key* name that you just obtained from the user. Remember that there are multiple ways of adding new keys to an existing dictionary object.\n",
    "* If you are using a list object for `orders` you will not need a name for the new order, just add it to the list.\n",
    "\n",
    "HINT: If you want to see if your function is correctly adding new `order` objects to `orders`, you can `print(orders)` as the last step in the **main program loop**."
   ]
  },
  {
   "cell_type": "code",
   "execution_count": 51,
   "metadata": {
    "colab": {},
    "colab_type": "code",
    "id": "9eUxRa1U4-AL"
   },
   "outputs": [
    {
     "name": "stdout",
     "output_type": "stream",
     "text": [
      "Hello \n",
      " Welcome to the page! \n",
      " We have waited so long to have you. \n",
      " At last, the time has come.\n",
      " We are most delightfully welcoming you to join us today!\n",
      "Please enter your requirement. You can: \n",
      " (1) start a new order: by entering '1'. \n",
      " (2) present existing orders: by entering '2'. \n",
      " (3) quit the program: by entering '3'\n",
      "1\n",
      "\n",
      "How many burgers do you want?\n",
      "21\n",
      "\n",
      "How many drinks do you want?\n",
      "51\n",
      "\n",
      "How many fries do you want?\n",
      "dfa\n",
      "your input was invalid and that we've marked you down for 9999 orders as a result.\n",
      "Please enter your requirement. You can: \n",
      " (1) start a new order: by entering '1'. \n",
      " (2) present existing orders: by entering '2'. \n",
      " (3) quit the program: by entering '3'\n",
      "2\n",
      "Please enter your requirement. You can: \n",
      " (1) start a new order: by entering '1'. \n",
      " (2) present existing orders: by entering '2'. \n",
      " (3) quit the program: by entering '3'\n",
      "3\n",
      "Goodbye\n"
     ]
    }
   ],
   "source": [
    "# PROBLEM 1\n",
    "# Copy your old code here and add the new parts\n",
    "\n",
    "# All Function Definitions go here\n",
    "\n",
    "\n",
    "def customer_directive():\n",
    "    my_in = input(\"Please enter your requirement. You can: \\n (1) start a new order: by entering '1'. \\n (2) present existing orders: by entering '2'. \\n (3) quit the program: by entering '3'\\n\")\n",
    "    # I just regard the input 1 or 2 or 3 as a string below\n",
    "    if my_in == '1':\n",
    "        return('new order')\n",
    "    elif my_in == '2':\n",
    "        return('display orders')\n",
    "    elif my_in == '3':\n",
    "        return('quit program')\n",
    "    else:\n",
    "        return('invalid input')\n",
    "\n",
    "    \n",
    "def take_order():\n",
    "    # Create your empty data structure to hold your orders\n",
    "    global orders \n",
    "    orders = {}\n",
    "    \n",
    "    order = {}\n",
    "    \n",
    "    bug = input(\"\\nHow many burgers do you want?\\n\")\n",
    "    try:\n",
    "        order['burger'] = int(bug)\n",
    "    except ValueError:\n",
    "        order['burger'] = 9999\n",
    "        print(\"your input was invalid and that we've marked you down for 9999 orders as a result.\")\n",
    "       \n",
    "    \n",
    "    drinks = input(\"\\nHow many drinks do you want?\\n\")\n",
    "    try:\n",
    "        order['drinks'] = int(drinks)\n",
    "    except ValueError:\n",
    "        order['drinks'] = 9999\n",
    "        print(\"your input was invalid and that we've marked you down for 9999 orders as a result.\")\n",
    "        \n",
    "        \n",
    "    fries = input(\"\\nHow many fries do you want?\\n\")\n",
    "    try:\n",
    "        order['fries'] = int(fries)\n",
    "    except ValueError:\n",
    "        order['fries'] = 9999\n",
    "        print(\"your input was invalid and that we've marked you down for 9999 orders as a result.\")\n",
    "    \n",
    "    orders.update(order)\n",
    "\n",
    "    \n",
    "# Display your welcome message\n",
    "\n",
    "print(\"Hello \\n Welcome to the page! \\n We have waited so long to have you. \\n At last, the time has come.\")\n",
    "print(\" We are most delightfully welcoming you to join us today!\")\n",
    "\n",
    "\n",
    "a=0\n",
    "\n",
    "while a==0:\n",
    "    x = customer_directive()\n",
    "    if x==\"new order\":\n",
    "        take_order()\n",
    "    elif x==\"display orders\":\n",
    "        pass\n",
    "    elif x==\"invalid input\":\n",
    "        print(\"Your input was invalid. Please Enter again.\")\n",
    "        continue\n",
    "    elif x==\"quit program\":\n",
    "        print(\"Goodbye\")\n",
    "        break\n"
   ]
  },
  {
   "cell_type": "markdown",
   "metadata": {
    "colab_type": "text",
    "id": "MAmqjJxY4-Ai"
   },
   "source": [
    "## Step 8: Displaying Orders (20 Points)\n",
    "There is only one thing left to add to our program.  The ability to display existing orders.\n",
    "\n",
    "* Create a new function called `display_orders()` that takes the `orders` object as an argument - just like `take_order()`.\n",
    "* You will call this function inside of the **main program loop** when the return value from `customer_directive()` is \"display orders\".\n",
    "* Inside of the function, iterate (loop) over each order and print it out.\n",
    "* HINT: If you are using a dictionary for `orders` and attempt to iterate over it directly, you'll only get the key values. Try iterating over `orders.values()` and `order.items()` to see what you can come up with. You should be able to display both the order items and the order names.\n"
   ]
  },
  {
   "cell_type": "code",
   "execution_count": 1,
   "metadata": {
    "colab": {},
    "colab_type": "code",
    "id": "3Dl2McsI4-Ak"
   },
   "outputs": [
    {
     "name": "stdout",
     "output_type": "stream",
     "text": [
      "Hello \n",
      " Welcome to the page! \n",
      " We have waited so long to have you. \n",
      " At last, the time has come.\n",
      " We are most delightfully welcoming you to join us today!\n",
      "\n",
      " Please enter your requirement. You can: \n",
      " (1) start a new order: by entering '1'. \n",
      " (2) present existing orders: by entering '2'. \n",
      " (3) quit the program: by entering '3'\n",
      "A\n",
      "Your input was invalid. Please Enter again.\n",
      "\n",
      " Please enter your requirement. You can: \n",
      " (1) start a new order: by entering '1'. \n",
      " (2) present existing orders: by entering '2'. \n",
      " (3) quit the program: by entering '3'\n",
      "1\n",
      "\n",
      "Enter your name:\n",
      "RR\n",
      "\n",
      "How many burgers do you want?\n",
      "1\n",
      "\n",
      "How many drinks do you want?\n",
      "2\n",
      "\n",
      "How many fries do you want?\n",
      "3\n",
      "\n",
      " Please enter your requirement. You can: \n",
      " (1) start a new order: by entering '1'. \n",
      " (2) present existing orders: by entering '2'. \n",
      " (3) quit the program: by entering '3'\n",
      "1\n",
      "\n",
      "Enter your name:\n",
      "rr\n",
      "\n",
      "How many burgers do you want?\n",
      "3\n",
      "\n",
      "How many drinks do you want?\n",
      "6\n",
      "\n",
      "How many fries do you want?\n",
      "8\n",
      "\n",
      " Please enter your requirement. You can: \n",
      " (1) start a new order: by entering '1'. \n",
      " (2) present existing orders: by entering '2'. \n",
      " (3) quit the program: by entering '3'\n",
      "2\n",
      "rr , your orders are: \n",
      "\n",
      "burger : 3 \n",
      "\n",
      "\n",
      "drinks : 6 \n",
      "\n",
      "\n",
      "fries : 8 \n",
      "\n",
      "\n",
      " Please enter your requirement. You can: \n",
      " (1) start a new order: by entering '1'. \n",
      " (2) present existing orders: by entering '2'. \n",
      " (3) quit the program: by entering '3'\n",
      "1\n",
      "\n",
      "Enter your name:\n",
      "aa\n",
      "\n",
      "How many burgers do you want?\n",
      "2\n",
      "\n",
      "How many drinks do you want?\n",
      "3\n",
      "\n",
      "How many fries do you want?\n",
      "4\n",
      "\n",
      " Please enter your requirement. You can: \n",
      " (1) start a new order: by entering '1'. \n",
      " (2) present existing orders: by entering '2'. \n",
      " (3) quit the program: by entering '3'\n",
      "2\n",
      "aa , your orders are: \n",
      "\n",
      "burger : 2 \n",
      "\n",
      "\n",
      "drinks : 3 \n",
      "\n",
      "\n",
      "fries : 4 \n",
      "\n",
      "\n",
      " Please enter your requirement. You can: \n",
      " (1) start a new order: by entering '1'. \n",
      " (2) present existing orders: by entering '2'. \n",
      " (3) quit the program: by entering '3'\n",
      "3\n",
      "Goodbye\n"
     ]
    }
   ],
   "source": [
    "# PROBLEM 1\n",
    "# Copy your old code here and add the new parts\n",
    "# All Function Definitions go here\n",
    "\n",
    "\n",
    "def customer_directive():\n",
    "    my_in = input(\"\\n Please enter your requirement. You can: \\n (1) start a new order: by entering '1'. \\n (2) present existing orders: by entering '2'. \\n (3) quit the program: by entering '3'\\n\")\n",
    "    # I just regard the input 1 or 2 or 3 as a string below\n",
    "    if my_in == '1':\n",
    "        return('new order')\n",
    "    elif my_in == '2':\n",
    "        return('display orders')\n",
    "    elif my_in == '3':\n",
    "        return('quit program')\n",
    "    else:\n",
    "        return('invalid input')\n",
    "\n",
    "    \n",
    "def take_order():\n",
    "    # Create your empty data structure to hold your orders\n",
    "    global orders \n",
    "    orders = {}\n",
    "    global your_name\n",
    "    order = {}\n",
    "    your_name = input(\"\\nEnter your name:\\n\")\n",
    "    bug = input(\"\\nHow many burgers do you want?\\n\")\n",
    "    try:\n",
    "        order['burger'] = int(bug)\n",
    "    except ValueError:\n",
    "        order['burger'] = 9999\n",
    "        print(\"your input was invalid and that we've marked you down for 9999 orders as a result.\")\n",
    "       \n",
    "    \n",
    "    drinks = input(\"\\nHow many drinks do you want?\\n\")\n",
    "    try:\n",
    "        order['drinks'] = int(drinks)\n",
    "    except ValueError:\n",
    "        order['drinks'] = 9999\n",
    "        print(\"your input was invalid and that we've marked you down for 9999 orders as a result.\")\n",
    "        \n",
    "        \n",
    "    fries = input(\"\\nHow many fries do you want?\\n\")\n",
    "    try:\n",
    "        order['fries'] = int(fries)\n",
    "    except ValueError:\n",
    "        order['fries'] = 9999\n",
    "        print(\"your input was invalid and that we've marked you down for 9999 orders as a result.\")\n",
    "    \n",
    "    orders.update(order)\n",
    "\n",
    "def display_orders():\n",
    "    print(your_name,\", your orders are: \")\n",
    "    for i in orders.keys():\n",
    "        print(\"\\n{} : {} \\n\".format(i, orders[i]))\n",
    "\n",
    "print(\"Hello \\n Welcome to the page! \\n We have waited so long to have you. \\n At last, the time has come.\")\n",
    "print(\" We are most delightfully welcoming you to join us today!\")\n",
    "\n",
    "\n",
    "a=0\n",
    "\n",
    "while a==0:\n",
    "    x = customer_directive()\n",
    "    if x==\"new order\":\n",
    "        take_order()\n",
    "    elif x==\"display orders\":\n",
    "        display_orders()\n",
    "    elif x==\"invalid input\":\n",
    "        print(\"Your input was invalid. Please Enter again.\")\n",
    "        continue\n",
    "    elif x==\"quit program\":\n",
    "        print(\"Goodbye\")\n",
    "        break\n"
   ]
  },
  {
   "cell_type": "code",
   "execution_count": null,
   "metadata": {
    "collapsed": true
   },
   "outputs": [],
   "source": []
  }
 ],
 "metadata": {
  "colab": {
   "collapsed_sections": [],
   "name": "A1.4 - Module One Review.ipynb",
   "provenance": [],
   "version": "0.3.2"
  },
  "kernelspec": {
   "display_name": "Python 3",
   "language": "python",
   "name": "python3"
  },
  "language_info": {
   "codemirror_mode": {
    "name": "ipython",
    "version": 3
   },
   "file_extension": ".py",
   "mimetype": "text/x-python",
   "name": "python",
   "nbconvert_exporter": "python",
   "pygments_lexer": "ipython3",
   "version": "3.7.3"
  }
 },
 "nbformat": 4,
 "nbformat_minor": 1
}
