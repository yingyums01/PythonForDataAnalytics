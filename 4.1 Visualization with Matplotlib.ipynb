{
 "cells": [
  {
   "cell_type": "markdown",
   "metadata": {
    "nbgrader": {
     "grade": false,
     "locked": true,
     "solution": false
    }
   },
   "source": [
    "## Dataset \n",
    "\n",
    "In this part of the assignment you will be working with the \"MovieLens dataset\". The dataset contains users ratings of thousands of motion pictures collected by the MovieLens, a movie recommendation service.\n",
    "\n",
    "Though the original data was contained in three files, I have combined it into one single file *movielens.csv*. Each row in the dataset represents, a rating provided by the user for a movie at a given time. The following are the description of each column \n",
    "\n",
    "* **userId** - The user identifier who provided the rating\n",
    "* **movieId** - The movie identifier on which the rating was provided\n",
    "* **rating** - The star rating for a movie. Ranging from half a star to five stars\n",
    "* **timestamp** - The date and time when the rating was provided\n",
    "* **title** - Name of the movie\n",
    "* **genres** - The movie genres\n",
    "* **year** - the year the movie was released \n",
    "* **decade** - the decade the movie was released "
   ]
  },
  {
   "cell_type": "code",
   "execution_count": 3,
   "metadata": {
    "nbgrader": {
     "grade": false,
     "locked": true,
     "solution": false
    }
   },
   "outputs": [
    {
     "data": {
      "text/html": [
       "<div>\n",
       "<style scoped>\n",
       "    .dataframe tbody tr th:only-of-type {\n",
       "        vertical-align: middle;\n",
       "    }\n",
       "\n",
       "    .dataframe tbody tr th {\n",
       "        vertical-align: top;\n",
       "    }\n",
       "\n",
       "    .dataframe thead th {\n",
       "        text-align: right;\n",
       "    }\n",
       "</style>\n",
       "<table border=\"1\" class=\"dataframe\">\n",
       "  <thead>\n",
       "    <tr style=\"text-align: right;\">\n",
       "      <th></th>\n",
       "      <th>userId</th>\n",
       "      <th>movieId</th>\n",
       "      <th>rating</th>\n",
       "      <th>timestamp</th>\n",
       "      <th>title</th>\n",
       "      <th>genres</th>\n",
       "      <th>year</th>\n",
       "      <th>decade</th>\n",
       "    </tr>\n",
       "  </thead>\n",
       "  <tbody>\n",
       "    <tr>\n",
       "      <th>0</th>\n",
       "      <td>1</td>\n",
       "      <td>31</td>\n",
       "      <td>2.5</td>\n",
       "      <td>2009-12-14 02:52:24</td>\n",
       "      <td>Dangerous Minds</td>\n",
       "      <td>Drama</td>\n",
       "      <td>1995</td>\n",
       "      <td>1990s</td>\n",
       "    </tr>\n",
       "    <tr>\n",
       "      <th>1</th>\n",
       "      <td>1</td>\n",
       "      <td>1029</td>\n",
       "      <td>3.0</td>\n",
       "      <td>2009-12-14 02:52:59</td>\n",
       "      <td>Dumbo</td>\n",
       "      <td>Animation</td>\n",
       "      <td>1941</td>\n",
       "      <td>1940s</td>\n",
       "    </tr>\n",
       "    <tr>\n",
       "      <th>2</th>\n",
       "      <td>1</td>\n",
       "      <td>1029</td>\n",
       "      <td>3.0</td>\n",
       "      <td>2009-12-14 02:52:59</td>\n",
       "      <td>Dumbo</td>\n",
       "      <td>Children</td>\n",
       "      <td>1941</td>\n",
       "      <td>1940s</td>\n",
       "    </tr>\n",
       "    <tr>\n",
       "      <th>3</th>\n",
       "      <td>1</td>\n",
       "      <td>1029</td>\n",
       "      <td>3.0</td>\n",
       "      <td>2009-12-14 02:52:59</td>\n",
       "      <td>Dumbo</td>\n",
       "      <td>Drama</td>\n",
       "      <td>1941</td>\n",
       "      <td>1940s</td>\n",
       "    </tr>\n",
       "    <tr>\n",
       "      <th>4</th>\n",
       "      <td>1</td>\n",
       "      <td>1029</td>\n",
       "      <td>3.0</td>\n",
       "      <td>2009-12-14 02:52:59</td>\n",
       "      <td>Dumbo</td>\n",
       "      <td>Musical</td>\n",
       "      <td>1941</td>\n",
       "      <td>1940s</td>\n",
       "    </tr>\n",
       "  </tbody>\n",
       "</table>\n",
       "</div>"
      ],
      "text/plain": [
       "   userId  movieId  rating            timestamp             title     genres  \\\n",
       "0       1       31     2.5  2009-12-14 02:52:24  Dangerous Minds       Drama   \n",
       "1       1     1029     3.0  2009-12-14 02:52:59            Dumbo   Animation   \n",
       "2       1     1029     3.0  2009-12-14 02:52:59            Dumbo    Children   \n",
       "3       1     1029     3.0  2009-12-14 02:52:59            Dumbo       Drama   \n",
       "4       1     1029     3.0  2009-12-14 02:52:59            Dumbo     Musical   \n",
       "\n",
       "   year decade  \n",
       "0  1995  1990s  \n",
       "1  1941  1940s  \n",
       "2  1941  1940s  \n",
       "3  1941  1940s  \n",
       "4  1941  1940s  "
      ]
     },
     "execution_count": 3,
     "metadata": {},
     "output_type": "execute_result"
    }
   ],
   "source": [
    "import numpy as np\n",
    "import pandas as pd\n",
    "import matplotlib as mpl\n",
    "import matplotlib.pyplot as plt\n",
    "\n",
    "%matplotlib inline\n",
    "\n",
    "movielens = pd.read_csv(\"https://www3.nd.edu/~jng2/movielens.csv\", encoding='latin-1')\n",
    "movielens.head()"
   ]
  },
  {
   "cell_type": "code",
   "execution_count": 15,
   "metadata": {
    "nbgrader": {
     "grade": false,
     "locked": true,
     "solution": false
    }
   },
   "outputs": [],
   "source": [
    "# Problem 1: Line Plot \n",
    "\n",
    "# Plot average rating versus year for each of the following genres.\n",
    "# - Drama\n",
    "# - War\n",
    "# - Comedy\n",
    "\n",
    "# The plot should contain a line for each of the genres (three lines on a single plot). \n",
    "# There should be a legend indicating what each line represents.\n",
    "# X-axis is the release year, Y-axis is average rating. They should be labeled as such.\n",
    "\n",
    "# HINT: I would first extract the data by genre into separate DataFrames. For example, for drama, \n",
    "# I would do this:\n",
    "#      data_drama = movielens[ movielens['genres']=='Drama' ]\n",
    "# Then I would compute the statistic I need using groupby.\n",
    "# Then I would create the desired plot.\n",
    "\n",
    "#\n",
    "# YOUR CODE HERE\n",
    "#\n",
    "movielens_s = movielens[['rating','genres','year']].groupby(['genres','year']).aggregate('mean').reset_index()\n",
    "data_drama = movielens_s[movielens_s['genres']=='Drama'].sort_values('year')\n",
    "data_war = movielens_s[movielens_s['genres']=='War'].sort_values('year')\n",
    "data_comedy = movielens_s[movielens_s['genres']=='Comedy'].sort_values('year')"
   ]
  },
  {
   "cell_type": "code",
   "execution_count": 16,
   "metadata": {},
   "outputs": [
    {
     "data": {
      "text/html": [
       "<div>\n",
       "<style scoped>\n",
       "    .dataframe tbody tr th:only-of-type {\n",
       "        vertical-align: middle;\n",
       "    }\n",
       "\n",
       "    .dataframe tbody tr th {\n",
       "        vertical-align: top;\n",
       "    }\n",
       "\n",
       "    .dataframe thead th {\n",
       "        text-align: right;\n",
       "    }\n",
       "</style>\n",
       "<table border=\"1\" class=\"dataframe\">\n",
       "  <thead>\n",
       "    <tr style=\"text-align: right;\">\n",
       "      <th></th>\n",
       "      <th>genres</th>\n",
       "      <th>year</th>\n",
       "      <th>rating</th>\n",
       "    </tr>\n",
       "  </thead>\n",
       "  <tbody>\n",
       "    <tr>\n",
       "      <th>581</th>\n",
       "      <td>Drama</td>\n",
       "      <td>1915</td>\n",
       "      <td>3.000000</td>\n",
       "    </tr>\n",
       "    <tr>\n",
       "      <th>582</th>\n",
       "      <td>Drama</td>\n",
       "      <td>1921</td>\n",
       "      <td>4.437500</td>\n",
       "    </tr>\n",
       "    <tr>\n",
       "      <th>583</th>\n",
       "      <td>Drama</td>\n",
       "      <td>1922</td>\n",
       "      <td>4.000000</td>\n",
       "    </tr>\n",
       "    <tr>\n",
       "      <th>584</th>\n",
       "      <td>Drama</td>\n",
       "      <td>1924</td>\n",
       "      <td>3.833333</td>\n",
       "    </tr>\n",
       "    <tr>\n",
       "      <th>585</th>\n",
       "      <td>Drama</td>\n",
       "      <td>1925</td>\n",
       "      <td>3.840909</td>\n",
       "    </tr>\n",
       "  </tbody>\n",
       "</table>\n",
       "</div>"
      ],
      "text/plain": [
       "    genres  year    rating\n",
       "581  Drama  1915  3.000000\n",
       "582  Drama  1921  4.437500\n",
       "583  Drama  1922  4.000000\n",
       "584  Drama  1924  3.833333\n",
       "585  Drama  1925  3.840909"
      ]
     },
     "execution_count": 16,
     "metadata": {},
     "output_type": "execute_result"
    }
   ],
   "source": [
    "data_drama.head()"
   ]
  },
  {
   "cell_type": "code",
   "execution_count": 24,
   "metadata": {},
   "outputs": [
    {
     "data": {
      "text/plain": [
       "<matplotlib.legend.Legend at 0x7fe1324c3ac8>"
      ]
     },
     "execution_count": 24,
     "metadata": {},
     "output_type": "execute_result"
    },
    {
     "data": {
      "image/png": "[encoded data removed]",
      "text/plain": [
       "<Figure size 432x288 with 1 Axes>"
      ]
     },
     "metadata": {},
     "output_type": "display_data"
    }
   ],
   "source": [
    "figure, axes = plt.subplots()\n",
    "axes.plot(data_drama['year'], data_drama['rating'], label='Drama',color='#6EA8BF',alpha=0.8)\n",
    "axes.plot(data_war['year'], data_war['rating'], label='War',color='#CA5555',alpha=0.8)\n",
    "axes.plot(data_comedy['year'], data_comedy['rating'], label='Comedy',color='#EFBE2F',alpha=0.8)\n",
    "\n",
    "axes.set_title(label='Average Rating VS Released Year in Drama, War, and Comedy Genres', loc='left')\n",
    "\n",
    "axes.set_ylabel('average rating')\n",
    "axes.set_xlabel('released year')\n",
    "\n",
    "# Use `fontsize` to adjust the legend font size.\n",
    "axes.legend(ncol=3, loc='upper right', fontsize=10)"
   ]
  },
  {
   "cell_type": "code",
   "execution_count": null,
   "metadata": {
    "collapsed": true
   },
   "outputs": [],
   "source": []
  }
 ],
 "metadata": {
  "kernelspec": {
   "display_name": "Python 3",
   "language": "python",
   "name": "python3"
  },
  "language_info": {
   "codemirror_mode": {
    "name": "ipython",
    "version": 3
   },
   "file_extension": ".py",
   "mimetype": "text/x-python",
   "name": "python",
   "nbconvert_exporter": "python",
   "pygments_lexer": "ipython3",
   "version": "3.7.3"
  }
 },
 "nbformat": 4,
 "nbformat_minor": 2
}
