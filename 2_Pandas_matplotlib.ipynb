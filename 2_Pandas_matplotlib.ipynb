{
 "cells": [
  {
   "cell_type": "code",
   "execution_count": 1,
   "metadata": {
    "colab": [],
    "colab_type": "code",
    "collapsed": true,
    "id": "51rVcjGAGJCM"
   },
   "outputs": [],
   "source": [
    "# PROBLEM 1\n",
    "# Import pandas and numpy per the community conventions\n",
    "\n",
    "#\n",
    "# YOUR CODE HERE\n",
    "#\n",
    "import pandas as pd\n",
    "import numpy as np"
   ]
  },
  {
   "cell_type": "code",
   "execution_count": 2,
   "metadata": {
    "colab": [],
    "colab_type": "code",
    "collapsed": true,
    "id": "9To1ESCaMzmJ",
    "nbgrader": {
     "grade": false,
     "locked": true,
     "solution": false
    }
   },
   "outputs": [],
   "source": [
    "# RUN THIS CODE\n",
    "%matplotlib inline\n",
    "import matplotlib.pyplot as plt\n",
    "from pandas.plotting import register_matplotlib_converters\n",
    "register_matplotlib_converters()"
   ]
  },
  {
   "cell_type": "code",
   "execution_count": 48,
   "metadata": {
    "colab": [],
    "colab_type": "code",
    "id": "rlc03znPGJCd",
    "nbgrader": {
     "grade": false,
     "locked": true,
     "solution": false
    }
   },
   "outputs": [
    {
     "name": "stdout",
     "output_type": "stream",
     "text": [
      "  % Total    % Received % Xferd  Average Speed   Time    Time     Time  Current\n",
      "                                 Dload  Upload   Total   Spent    Left  Speed\n",
      "100   459  100   459    0     0    731      0 --:--:-- --:--:-- --:--:--   730\n",
      "100  116k  100  116k    0     0  65707      0  0:00:01  0:00:01 --:--:--  936k\n"
     ]
    },
    {
     "data": {
      "text/html": [
       "<div>\n",
       "<style scoped>\n",
       "    .dataframe tbody tr th:only-of-type {\n",
       "        vertical-align: middle;\n",
       "    }\n",
       "\n",
       "    .dataframe tbody tr th {\n",
       "        vertical-align: top;\n",
       "    }\n",
       "\n",
       "    .dataframe thead th {\n",
       "        text-align: right;\n",
       "    }\n",
       "</style>\n",
       "<table border=\"1\" class=\"dataframe\">\n",
       "  <thead>\n",
       "    <tr style=\"text-align: right;\">\n",
       "      <th></th>\n",
       "      <th>Sex</th>\n",
       "      <th>Race</th>\n",
       "      <th>Age Group</th>\n",
       "      <th>Year</th>\n",
       "      <th>Deaths</th>\n",
       "      <th>Population</th>\n",
       "    </tr>\n",
       "  </thead>\n",
       "  <tbody>\n",
       "    <tr>\n",
       "      <th>0</th>\n",
       "      <td>Males</td>\n",
       "      <td>Am Indian/AK Native</td>\n",
       "      <td>00-04 yrs</td>\n",
       "      <td>1999</td>\n",
       "      <td>7</td>\n",
       "      <td>128050</td>\n",
       "    </tr>\n",
       "    <tr>\n",
       "      <th>1</th>\n",
       "      <td>Females</td>\n",
       "      <td>Am Indian/AK Native</td>\n",
       "      <td>00-04 yrs</td>\n",
       "      <td>1999</td>\n",
       "      <td>4</td>\n",
       "      <td>123319</td>\n",
       "    </tr>\n",
       "    <tr>\n",
       "      <th>2</th>\n",
       "      <td>Males</td>\n",
       "      <td>Am Indian/AK Native</td>\n",
       "      <td>00-04 yrs</td>\n",
       "      <td>2000</td>\n",
       "      <td>9</td>\n",
       "      <td>135549</td>\n",
       "    </tr>\n",
       "    <tr>\n",
       "      <th>3</th>\n",
       "      <td>Females</td>\n",
       "      <td>Am Indian/AK Native</td>\n",
       "      <td>00-04 yrs</td>\n",
       "      <td>2000</td>\n",
       "      <td>4</td>\n",
       "      <td>130791</td>\n",
       "    </tr>\n",
       "    <tr>\n",
       "      <th>4</th>\n",
       "      <td>Males</td>\n",
       "      <td>Am Indian/AK Native</td>\n",
       "      <td>00-04 yrs</td>\n",
       "      <td>2001</td>\n",
       "      <td>8</td>\n",
       "      <td>139340</td>\n",
       "    </tr>\n",
       "    <tr>\n",
       "      <th>5</th>\n",
       "      <td>Females</td>\n",
       "      <td>Am Indian/AK Native</td>\n",
       "      <td>00-04 yrs</td>\n",
       "      <td>2001</td>\n",
       "      <td>10</td>\n",
       "      <td>134859</td>\n",
       "    </tr>\n",
       "    <tr>\n",
       "      <th>6</th>\n",
       "      <td>Males</td>\n",
       "      <td>Am Indian/AK Native</td>\n",
       "      <td>00-04 yrs</td>\n",
       "      <td>2002</td>\n",
       "      <td>9</td>\n",
       "      <td>142507</td>\n",
       "    </tr>\n",
       "    <tr>\n",
       "      <th>7</th>\n",
       "      <td>Females</td>\n",
       "      <td>Am Indian/AK Native</td>\n",
       "      <td>00-04 yrs</td>\n",
       "      <td>2002</td>\n",
       "      <td>13</td>\n",
       "      <td>138340</td>\n",
       "    </tr>\n",
       "    <tr>\n",
       "      <th>8</th>\n",
       "      <td>Males</td>\n",
       "      <td>Am Indian/AK Native</td>\n",
       "      <td>00-04 yrs</td>\n",
       "      <td>2003</td>\n",
       "      <td>13</td>\n",
       "      <td>146682</td>\n",
       "    </tr>\n",
       "    <tr>\n",
       "      <th>9</th>\n",
       "      <td>Females</td>\n",
       "      <td>Am Indian/AK Native</td>\n",
       "      <td>00-04 yrs</td>\n",
       "      <td>2003</td>\n",
       "      <td>4</td>\n",
       "      <td>142863</td>\n",
       "    </tr>\n",
       "  </tbody>\n",
       "</table>\n",
       "</div>"
      ],
      "text/plain": [
       "       Sex                 Race  Age Group  Year  Deaths  Population\n",
       "0    Males  Am Indian/AK Native  00-04 yrs  1999       7      128050\n",
       "1  Females  Am Indian/AK Native  00-04 yrs  1999       4      123319\n",
       "2    Males  Am Indian/AK Native  00-04 yrs  2000       9      135549\n",
       "3  Females  Am Indian/AK Native  00-04 yrs  2000       4      130791\n",
       "4    Males  Am Indian/AK Native  00-04 yrs  2001       8      139340\n",
       "5  Females  Am Indian/AK Native  00-04 yrs  2001      10      134859\n",
       "6    Males  Am Indian/AK Native  00-04 yrs  2002       9      142507\n",
       "7  Females  Am Indian/AK Native  00-04 yrs  2002      13      138340\n",
       "8    Males  Am Indian/AK Native  00-04 yrs  2003      13      146682\n",
       "9  Females  Am Indian/AK Native  00-04 yrs  2003       4      142863"
      ]
     },
     "execution_count": 48,
     "metadata": {},
     "output_type": "execute_result"
    }
   ],
   "source": [
    "!curl -L https://osf.io/e6tvw/download --create-dirs -o data-sets/us-homicides-1999-2016.csv\n",
    "homicides = pd.read_csv(\n",
    "    'data-sets/us-homicides-1999-2016.csv')\n",
    "homicides[:10]"
   ]
  },
  {
   "cell_type": "code",
   "execution_count": 4,
   "metadata": {
    "colab": [],
    "colab_type": "code",
    "collapsed": true,
    "id": "MithMPACGJCl",
    "nbgrader": {
     "grade": false,
     "locked": true,
     "solution": false
    }
   },
   "outputs": [],
   "source": [
    "# Generate NumPy arrays for your use.\n",
    "sex_array = np.array(homicides['Sex'])\n",
    "race_array = np.array(homicides['Race'])\n",
    "age_group_array = np.array(homicides['Age Group'])\n",
    "year_array = np.array(homicides['Year']) \n",
    "deaths_array = np.array(homicides['Deaths'])\n",
    "total_population_array = np.array(homicides['Population'])\n",
    "\n",
    "# And just in case you want it, here are all those arrays in a list.\n",
    "all_arrays = [sex_array, race_array, age_group_array, year_array, \n",
    "              deaths_array, total_population_array]"
   ]
  },
  {
   "cell_type": "markdown",
   "metadata": {
    "colab_type": "text",
    "id": "YK_IQ_ImGJCp",
    "nbgrader": {
     "grade": false,
     "locked": true,
     "solution": false
    }
   },
   "source": [
    "Ok, from here it is up to you! Good luck. I hope you all get some satisfaction from pulling together your skills on a real data set and learn something in the process."
   ]
  },
  {
   "cell_type": "code",
   "execution_count": 12,
   "metadata": {
    "colab": [],
    "colab_type": "code",
    "id": "Bz9vVJXnGJCx"
   },
   "outputs": [
    {
     "name": "stdout",
     "output_type": "stream",
     "text": [
      "array: ['Males' 'Females' 'Males' ... 'Females' 'Males' 'Females']\n",
      "datatype: object\n",
      "size: 2592 \n",
      "\n",
      "array: ['Am Indian/AK Native' 'Am Indian/AK Native' 'Am Indian/AK Native' ...\n",
      " 'White' 'White' 'White']\n",
      "datatype: object\n",
      "size: 2592 \n",
      "\n",
      "array: ['00-04 yrs' '00-04 yrs' '00-04 yrs' ... '85+ yrs' '85+ yrs' '85+ yrs']\n",
      "datatype: object\n",
      "size: 2592 \n",
      "\n",
      "array: [1999 1999 2000 ... 2015 2016 2016]\n",
      "datatype: int64\n",
      "size: 2592 \n",
      "\n",
      "array: [ 7  4  9 ... 57 34 64]\n",
      "datatype: int64\n",
      "size: 2592 \n",
      "\n",
      "array: [ 128050  123319  135549 ... 3608677 1972484 3628186]\n",
      "datatype: int64\n",
      "size: 2592 \n",
      "\n"
     ]
    }
   ],
   "source": [
    "# PROBLEM 2\n",
    "# - Print out the datatype and size of each array using the \n",
    "#   appropriate array data attributes.\n",
    "# - You can do this one by one, or by using a loop.\n",
    "\n",
    "#\n",
    "# YOUR CODE HERE\n",
    "#\n",
    "for i in all_arrays:\n",
    "    print(\"array:\",i)\n",
    "    print(\"datatype: {}\".format(i.dtype))\n",
    "    print(\"size: {} \\n\".format(i.size))\n"
   ]
  },
  {
   "cell_type": "code",
   "execution_count": 13,
   "metadata": {
    "colab": [],
    "colab_type": "code",
    "id": "KGuCgLVeGJDL",
    "nbgrader": {
     "grade": false,
     "locked": true,
     "solution": false
    }
   },
   "outputs": [
    {
     "data": {
      "text/plain": [
       "array([[   1999,  128050,       7],\n",
       "       [   1999,  123319,       4],\n",
       "       [   2000,  135549,       9],\n",
       "       ...,\n",
       "       [   2015, 3608677,      57],\n",
       "       [   2016, 1972484,      34],\n",
       "       [   2016, 3628186,      64]])"
      ]
     },
     "execution_count": 13,
     "metadata": {},
     "output_type": "execute_result"
    }
   ],
   "source": [
    "# Here is a two dimensional array with three columns\n",
    "# of data. Use it in the next two problems.\n",
    "\n",
    "year_population_deaths = np.array([year_array, total_population_array, deaths_array]).transpose()\n",
    "year_population_deaths"
   ]
  },
  {
   "cell_type": "code",
   "execution_count": 114,
   "metadata": {
    "colab": [],
    "colab_type": "code",
    "id": "069On-HlGJDX"
   },
   "outputs": [
    {
     "data": {
      "text/plain": [
       "7525332"
      ]
     },
     "execution_count": 114,
     "metadata": {},
     "output_type": "execute_result"
    }
   ],
   "source": [
    "# PROBLEM 3\n",
    "# - What is the value for total population (2nd column) \n",
    "#   of the 126th row of the array?\n",
    "\n",
    "#\n",
    "# YOUR CODE HERE\n",
    "#\n",
    "population_126 = year_population_deaths[125][1]\n",
    "population_126"
   ]
  },
  {
   "cell_type": "code",
   "execution_count": 74,
   "metadata": {
    "colab": [],
    "colab_type": "code",
    "id": "4oJYyqrWGJDs"
   },
   "outputs": [
    {
     "data": {
      "text/plain": [
       "array([0.05466615, 0.0324362 , 0.06639665, ..., 0.01579526, 0.01723715,\n",
       "       0.01763967])"
      ]
     },
     "execution_count": 74,
     "metadata": {},
     "output_type": "execute_result"
    }
   ],
   "source": [
    "# PROBLEM 4\n",
    "# - Create a new array, called `homicide_rate_per_1000` by \n",
    "#   dividing array containing the total numbers of deaths in a given observation\n",
    "#   by the array containing the total population in a given observation \n",
    "#   then multiplying that result by 1000.\n",
    "# - This will give you the number of people killed per 1000 citizens.\n",
    "\n",
    "#\n",
    "# YOUR CODE HERE\n",
    "#\n",
    "homicide_rate_per_1000 = year_population_deaths[:,2]/year_population_deaths[:,1]*1000\n",
    "homicide_rate_per_1000"
   ]
  },
  {
   "cell_type": "code",
   "execution_count": 110,
   "metadata": {
    "colab": [],
    "colab_type": "code",
    "id": "YtjnmZFaGJD9"
   },
   "outputs": [
    {
     "data": {
      "text/plain": [
       "314336"
      ]
     },
     "execution_count": 110,
     "metadata": {},
     "output_type": "execute_result"
    }
   ],
   "source": [
    "# PROBLEM 5\n",
    "# - What are the total number of homicides in the data set?\n",
    "# - Don't overthink it, the answer is simple.\n",
    "\n",
    "#\n",
    "# YOUR CODE HERE\n",
    "#\n",
    "total_homicides = np.sum(deaths_array)\n",
    "total_homicides"
   ]
  },
  {
   "cell_type": "code",
   "execution_count": 76,
   "metadata": {
    "colab": [],
    "colab_type": "code",
    "id": "M0d4d6bVGJEJ"
   },
   "outputs": [
    {
     "name": "stdout",
     "output_type": "stream",
     "text": [
      "[16840, 16735, 20276, 17597, 17691, 17321, 18103, 18554, 18336, 17819, 16781, 16242, 16231, 16685, 16111, 15866, 17789, 19359]\n",
      "[0.08499254223103211, 0.07924769764587755, 0.08372753119749629, 0.08078751617152248, 0.07674904751788912, 0.07361283671410634, 0.07714379020147259, 0.07617588105212664, 0.07193259807939806, 0.0691600214462, 0.06542369081648941, 0.06294572717828155, 0.06442686082180335, 0.06399817343224304, 0.060562986759590515, 0.06082264618148622, 0.06683334219705496, 0.07254132333284913]\n"
     ]
    }
   ],
   "source": [
    "# PROBLEM 6\n",
    "# - Get the total number of homicides and mean homicide_rate_per_1000 \n",
    "#   for each unique year. You could do this with or without a loop, but doing it \n",
    "#   without a loop will require a lot of copying and pasting.\n",
    "\n",
    "# - IMPORTANT: Append all your results to 2 different lists called\n",
    "#   deaths_per_year and homicide_rate_per_1000_per_year. Finally, \n",
    "#   print the 2 lists.\n",
    "\n",
    "#\n",
    "# YOUR CODE HERE\n",
    "#\n",
    "deaths_per_year=[]\n",
    "homicide_rate_per_1000_per_year=[]\n",
    "\n",
    "\n",
    "for i in np.unique(year_array):\n",
    "    year_total_death = np.sum(deaths_array[(year_array==i)])\n",
    "    deaths_per_year.append(year_total_death)\n",
    "    \n",
    "    mean_homicide_rate = np.mean(homicide_rate_per_1000[(year_array==i)])\n",
    "    homicide_rate_per_1000_per_year.append(mean_homicide_rate)\n",
    "print(deaths_per_year)\n",
    "print(homicide_rate_per_1000_per_year)"
   ]
  },
  {
   "cell_type": "code",
   "execution_count": 77,
   "metadata": {
    "colab": [],
    "colab_type": "code",
    "id": "7SoECnS-cMbS",
    "nbgrader": {
     "grade": false,
     "locked": true,
     "solution": false
    }
   },
   "outputs": [
    {
     "data": {
      "image/png": "[encoded data removed]",
      "text/plain": [
       "<Figure size 432x288 with 1 Axes>"
      ]
     },
     "metadata": {},
     "output_type": "display_data"
    }
   ],
   "source": [
    "# VISUALIZATION AID 1: Total # of Homicides Per Year\n",
    "# If you correctly did the last problem, this will\n",
    "# generate a visualization with a spike in the data\n",
    "# on both ends of the timeline.\n",
    "\n",
    "df = pd.DataFrame({'year': np.unique(year_array), \n",
    "                   'yearly_sum': deaths_per_year, \n",
    "                   'yearly_rate_per_1000': homicide_rate_per_1000_per_year})\n",
    "\n",
    "df['year'] = pd.to_datetime(df['year'], format=\"%Y\")\n",
    "\n",
    "plt.plot(df['year'], df['yearly_sum'])\n",
    "plt.xlabel('Year')\n",
    "plt.ylabel('Deaths')\n",
    "plt.show()"
   ]
  },
  {
   "cell_type": "code",
   "execution_count": 78,
   "metadata": {
    "colab": [],
    "colab_type": "code",
    "id": "pTJeIDZCe3hj",
    "nbgrader": {
     "grade": false,
     "locked": true,
     "solution": false
    }
   },
   "outputs": [
    {
     "data": {
      "image/png": "[encoded data removed]",
      "text/plain": [
       "<Figure size 432x288 with 1 Axes>"
      ]
     },
     "metadata": {},
     "output_type": "display_data"
    }
   ],
   "source": [
    "# VISUALIZATION 2: Homicides per Thousand Citizens over Time\n",
    "# Here the line should be trending down except for the \n",
    "# last 2 years in which there is a spike.\n",
    "\n",
    "plt.plot(df['year'], df['yearly_rate_per_1000'])\n",
    "plt.xlabel('Year')\n",
    "plt.ylabel('Homicide rate per 1000 persons')\n",
    "plt.show()"
   ]
  },
  {
   "cell_type": "code",
   "execution_count": 79,
   "metadata": {},
   "outputs": [
    {
     "data": {
      "text/plain": [
       "array(['00-04 yrs', '05-09 yrs', '10-14 yrs', '15-19 yrs', '20-24 yrs',\n",
       "       '25-29 yrs', '30-34 yrs', '35-39 yrs', '40-44 yrs', '45-49 yrs',\n",
       "       '50-54 yrs', '55-59 yrs', '60-64 yrs', '65-69 yrs', '70-74 yrs',\n",
       "       '75-79 yrs', '80-84 yrs', '85+ yrs'], dtype=object)"
      ]
     },
     "execution_count": 79,
     "metadata": {},
     "output_type": "execute_result"
    }
   ],
   "source": [
    "np.unique(age_group_array)"
   ]
  },
  {
   "cell_type": "code",
   "execution_count": 85,
   "metadata": {
    "colab": [],
    "colab_type": "code",
    "id": "qKoIDXr2GJEc"
   },
   "outputs": [
    {
     "name": "stdout",
     "output_type": "stream",
     "text": [
      "Male-Min: 117865\n",
      "Male-Max: 8812040\n",
      "Female-Min: 109531\n",
      "Female-Max: 8329762\n"
     ]
    }
   ],
   "source": [
    "# PROBLEM 7\n",
    "# - What are the minimum and maximum observations in the total population\n",
    "#   array when broken down by men/women who are in the 20-24 year old age group?\n",
    "\n",
    "#\n",
    "# YOUR CODE HERE\n",
    "#\n",
    "Male_min = np.min(total_population_array[(age_group_array=='20-24 yrs')&(sex_array=='Males')])\n",
    "Male_max = np.max(total_population_array[(age_group_array=='20-24 yrs')&(sex_array=='Males')])\n",
    "\n",
    "Female_min = np.min(total_population_array[(age_group_array=='20-24 yrs')&(sex_array=='Females')])\n",
    "Female_max = np.max(total_population_array[(age_group_array=='20-24 yrs')&(sex_array=='Females')])\n",
    "print(\"Male-Min:\",Male_min)\n",
    "print(\"Male-Max:\",Male_max)\n",
    "print(\"Female-Min:\",Female_min)\n",
    "print(\"Female-Max:\",Female_max)"
   ]
  },
  {
   "cell_type": "code",
   "execution_count": 92,
   "metadata": {
    "colab": [],
    "colab_type": "code",
    "id": "26h6c2BwGJEk"
   },
   "outputs": [
    {
     "name": "stdout",
     "output_type": "stream",
     "text": [
      "Am Indian/AK Native | mean death: 6.969135802469136. Standard deviation death: 8.855439034160336\n",
      "\n",
      "Asian/Pac Islander | mean death: 10.25462962962963. Standard deviation death: 10.782429273390356\n",
      "\n",
      "Black | mean death: 231.99382716049382. Standard deviation death: 385.99741726433297\n",
      "\n",
      "White | mean death: 235.86882716049382. Standard deviation death: 238.49299835177968\n",
      "\n"
     ]
    }
   ],
   "source": [
    "# PROBLEM 8\n",
    "# Use a loop to print out the mean and standard deviation of the observations\n",
    "# in deaths_array for each racial group. \n",
    "# - Make sure you don't have duplicate outputs. Hint: loop over np.unique()\n",
    "# - Use string interpolation to print the current racial group, mean, \n",
    "#   and standard deviation on one line for each racial group.\n",
    "\n",
    "#\n",
    "# YOUR CODE HERE\n",
    "#\n",
    "for i in np.unique(race_array):\n",
    "    mean_death = np.mean(deaths_array[(race_array==i)])\n",
    "    std_death = np.std(deaths_array[(race_array==i)])\n",
    "    print(\"{} | mean death: {}. Standard deviation death: {}\\n\".format(i,mean_death,std_death))"
   ]
  },
  {
   "cell_type": "code",
   "execution_count": 99,
   "metadata": {
    "colab": [],
    "colab_type": "code",
    "id": "twLrRUviGJEq"
   },
   "outputs": [
    {
     "name": "stdout",
     "output_type": "stream",
     "text": [
      "\n",
      "The highest homicide rate appears in the 20-24 yrs group\n"
     ]
    },
    {
     "data": {
      "text/plain": [
       "{'00-04 yrs': 0.04189296505866115,\n",
       " '05-09 yrs': 0.00750752732666867,\n",
       " '10-14 yrs': 0.010614149172129918,\n",
       " '15-19 yrs': 0.11287203099809245,\n",
       " '20-24 yrs': 0.20097933320671613,\n",
       " '25-29 yrs': 0.17940469463743727,\n",
       " '30-34 yrs': 0.14481012863800277,\n",
       " '35-39 yrs': 0.10870899785261783,\n",
       " '40-44 yrs': 0.09185467066356184,\n",
       " '45-49 yrs': 0.07675859188906246,\n",
       " '50-54 yrs': 0.06148540512330095,\n",
       " '55-59 yrs': 0.04864404532665874,\n",
       " '60-64 yrs': 0.03904613216683675,\n",
       " '65-69 yrs': 0.0373772041870008,\n",
       " '70-74 yrs': 0.03268386558254562,\n",
       " '75-79 yrs': 0.03153927464211783,\n",
       " '80-84 yrs': 0.03540580123883738,\n",
       " '85+ yrs': 0.029499395266670742}"
      ]
     },
     "execution_count": 99,
     "metadata": {},
     "output_type": "execute_result"
    }
   ],
   "source": [
    "# PROBLEM 9 - Are there certain age groups with significantly higher homicide rates?\n",
    "# - Determine the average homicide rate per thousand for each age group in the data set.\n",
    "# - Add your results to a dict called average_homicide_rates_by_age_group where \n",
    "#   the keys are the age groups and the values are the average \n",
    "#   death by thousand rate for that age group.\n",
    "\n",
    "#\n",
    "# YOUR CODE HERE\n",
    "#\n",
    "average_homicide_rates_by_age_group={}\n",
    "\n",
    "for i in np.unique(age_group_array):\n",
    "    group_mean_death_rate = np.mean(homicide_rate_per_1000[age_group_array==i])\n",
    "    average_homicide_rates_by_age_group[i]=group_mean_death_rate\n",
    "\n",
    "print(\"\\nThe highest homicide rate appears in the 20-24 yrs group\")\n",
    "average_homicide_rates_by_age_group"
   ]
  },
  {
   "cell_type": "code",
   "execution_count": 100,
   "metadata": {
    "colab": [],
    "colab_type": "code",
    "id": "XZMcXLyDgUvT",
    "nbgrader": {
     "grade": false,
     "locked": true,
     "solution": false
    }
   },
   "outputs": [
    {
     "data": {
      "image/png": "[encoded data removed]",
      "text/plain": [
       "<Figure size 432x288 with 1 Axes>"
      ]
     },
     "metadata": {},
     "output_type": "display_data"
    }
   ],
   "source": [
    "# VISUALIZATION 3 AID: Homicides Rates by Age Group\n",
    "# If you did the previous problem correctly, you should\n",
    "# see a clear pattern in the chart.\n",
    "\n",
    "df = pd.DataFrame({\n",
    "    'age_group': list(average_homicide_rates_by_age_group.keys()),\n",
    "    'homicide_rate': list(average_homicide_rates_by_age_group.values())\n",
    "})\n",
    "\n",
    "plt.plot(df['age_group'], df['homicide_rate'], 'o')\n",
    "plt.xticks(rotation=90)\n",
    "plt.xlabel('Age group')\n",
    "plt.ylabel('Homicide rate')\n",
    "plt.show()"
   ]
  },
  {
   "cell_type": "code",
   "execution_count": 107,
   "metadata": {
    "colab": [],
    "colab_type": "code",
    "id": "RBUzRRteGJE3"
   },
   "outputs": [
    {
     "name": "stdout",
     "output_type": "stream",
     "text": [
      "Male:\n",
      " {'00-04 yrs': 0.04664936569239608, '05-09 yrs': 0.007470121123021546, '10-14 yrs': 0.013600283533195158, '15-19 yrs': 0.19414070735980848, '20-24 yrs': 0.3519303545670763, '25-29 yrs': 0.30961339971897794, '30-34 yrs': 0.24259200599473874, '35-39 yrs': 0.17426156999518463, '40-44 yrs': 0.14278011782558878, '45-49 yrs': 0.12024179059987881, '50-54 yrs': 0.09801018292133623, '55-59 yrs': 0.0759730765492765, '60-64 yrs': 0.05983177976125656, '65-69 yrs': 0.0562003525413637, '70-74 yrs': 0.04704256275466023, '75-79 yrs': 0.04345175580732168, '80-84 yrs': 0.045130425525333945, '85+ yrs': 0.03691867572381034}\n",
      "\n",
      "Female:\n",
      " {'00-04 yrs': 0.03713656442492622, '05-09 yrs': 0.007544933530315797, '10-14 yrs': 0.007628014811064678, '15-19 yrs': 0.03160335463637638, '20-24 yrs': 0.05002831184635598, '25-29 yrs': 0.049195989555896595, '30-34 yrs': 0.04702825128126687, '35-39 yrs': 0.043156425710051, '40-44 yrs': 0.04092922350153491, '45-49 yrs': 0.03327539317824611, '50-54 yrs': 0.024960627325265668, '55-59 yrs': 0.02131501410404097, '60-64 yrs': 0.018260484572416955, '65-69 yrs': 0.018554055832637903, '70-74 yrs': 0.018325168410431008, '75-79 yrs': 0.01962679347691397, '80-84 yrs': 0.025681176952340803, '85+ yrs': 0.02208011480953114}\n"
     ]
    }
   ],
   "source": [
    "# PROBLEM 10 - Are there significant differences between homicide rates\n",
    "# for men vs. women when broken out by age group?\n",
    "# - Determine the average homicide rate per thousand for each age group & gender in the data set.\n",
    "# - Add your results to two dicts called average_homicide_rates_by_male_age_group and\n",
    "#   average_homicide_rates_by_female_age_group where the keys are the age groups\n",
    "#   and the values are the mean homicide by thousand rate for that age group.\n",
    "\n",
    "# - There are a good number of steps involved in this. Think through\n",
    "#   the steps you need to take and then start coding it.\n",
    "\n",
    "#\n",
    "# YOUR CODE HERE\n",
    "#\n",
    "\n",
    "average_homicide_rates_by_male_age_group={}\n",
    "average_homicide_rates_by_female_age_group={}\n",
    "\n",
    "\n",
    "for i in np.unique(age_group_array):\n",
    "    male_group_mean_death_rate = np.mean(homicide_rate_per_1000[(sex_array=='Males') & (age_group_array==i)])\n",
    "    average_homicide_rates_by_male_age_group[i]=male_group_mean_death_rate\n",
    "\n",
    "    female_group_mean_death_rate = np.mean(homicide_rate_per_1000[(sex_array=='Females') & (age_group_array==i)])\n",
    "    average_homicide_rates_by_female_age_group[i]=female_group_mean_death_rate\n",
    "    \n",
    "\n",
    "print(\"Male:\\n\",average_homicide_rates_by_male_age_group)\n",
    "print(\"\\nFemale:\\n\",average_homicide_rates_by_female_age_group)"
   ]
  },
  {
   "cell_type": "code",
   "execution_count": 108,
   "metadata": {
    "colab": [],
    "colab_type": "code",
    "id": "BmY8ZhtGl8Bq",
    "nbgrader": {
     "grade": false,
     "locked": true,
     "solution": false
    }
   },
   "outputs": [
    {
     "data": {
      "image/png": "[encoded data removed]",
      "text/plain": [
       "<Figure size 432x288 with 1 Axes>"
      ]
     },
     "metadata": {},
     "output_type": "display_data"
    }
   ],
   "source": [
    "# VISUALIZATION AID 4: Homicides Rates by Age Group & Gender\n",
    "# A correct answer to the previous problem will result in a\n",
    "# chart with obvious differences.\n",
    "df = pd.DataFrame({\n",
    "    'age_group': np.unique(age_group_array),\n",
    "    'homicide_rate_female': list(average_homicide_rates_by_female_age_group.values()),\n",
    "    'homicide_rate_male': list(average_homicide_rates_by_male_age_group.values())\n",
    "})\n",
    "\n",
    "plt.scatter(df['age_group'], df['homicide_rate_female'], marker='o', label='women')\n",
    "plt.scatter(df['age_group'], df['homicide_rate_male'], marker='+', label='men')\n",
    "plt.xticks(rotation=90)\n",
    "plt.legend(loc='upper right')\n",
    "plt.show()"
   ]
  },
  {
   "cell_type": "code",
   "execution_count": 111,
   "metadata": {
    "colab": [],
    "colab_type": "code",
    "id": "S3uKGggDGJFC"
   },
   "outputs": [
    {
     "data": {
      "text/plain": [
       "{'Am Indian/AK Native': [0.09579144799963829,\n",
       "  0.06990605738043704,\n",
       "  0.06416840315266595,\n",
       "  0.07465861632512137,\n",
       "  0.059496992533690486,\n",
       "  0.057538207461465145,\n",
       "  0.06013292263089365,\n",
       "  0.05624213851492959,\n",
       "  0.04888568187254971,\n",
       "  0.05366556007542854,\n",
       "  0.05181560444953323,\n",
       "  0.04736074611013491,\n",
       "  0.05433084642829031,\n",
       "  0.04918650227307591,\n",
       "  0.045653144126581356,\n",
       "  0.05196676889514261,\n",
       "  0.05331876249514204,\n",
       "  0.058707198187666024],\n",
       " 'Asian/Pac Islander': [0.029229586407598478,\n",
       "  0.029615549293466707,\n",
       "  0.0388755971287755,\n",
       "  0.027147100513907216,\n",
       "  0.026405602509633017,\n",
       "  0.023273968085223435,\n",
       "  0.026163005785411197,\n",
       "  0.025907084821194207,\n",
       "  0.02032013328492542,\n",
       "  0.019780546228626694,\n",
       "  0.019601668739866827,\n",
       "  0.019594204042534244,\n",
       "  0.02105033622360298,\n",
       "  0.01940336845044048,\n",
       "  0.014738622217671256,\n",
       "  0.014779740115882432,\n",
       "  0.016204978714623078,\n",
       "  0.018429816915861374],\n",
       " 'Black': [0.1806650549040005,\n",
       "  0.18465552943391852,\n",
       "  0.18843162485138026,\n",
       "  0.1877109861352219,\n",
       "  0.18734747028600018,\n",
       "  0.180504388692275,\n",
       "  0.18900859000454853,\n",
       "  0.18918893167285353,\n",
       "  0.18553318821351408,\n",
       "  0.1699717042568757,\n",
       "  0.1588405339218511,\n",
       "  0.1553517038047162,\n",
       "  0.1530250695906905,\n",
       "  0.1581800714911729,\n",
       "  0.15355839281245603,\n",
       "  0.1490176149841504,\n",
       "  0.16825762035553207,\n",
       "  0.1813291081947307],\n",
       " 'White': [0.034284079612891205,\n",
       "  0.03281365447568793,\n",
       "  0.0434344996571635,\n",
       "  0.033633361711839366,\n",
       "  0.033746124742232805,\n",
       "  0.03313478261746179,\n",
       "  0.033270642385037005,\n",
       "  0.03336536919952918,\n",
       "  0.03299138894660303,\n",
       "  0.03322227522386908,\n",
       "  0.03143695615470645,\n",
       "  0.029476254755740824,\n",
       "  0.029301191044629596,\n",
       "  0.029222751514282844,\n",
       "  0.028301787881653346,\n",
       "  0.02752646073076946,\n",
       "  0.02955200722292261,\n",
       "  0.031699170033138456]}"
      ]
     },
     "execution_count": 111,
     "metadata": {},
     "output_type": "execute_result"
    }
   ],
   "source": [
    "# PROBLEM 11 - CHALLENGE QUESTION: Determine average yearly homicide rates for each racial group.\n",
    "# - Determine the mean homicide rate per thousand for each racial group for each year\n",
    "# - Add your results to a dict called average_homicide_rates_by_race_and_year \n",
    "#   where the keys are the unique racial groups and the values are nested lists (important)\n",
    "#   of the average homicide rates for that race for each year.      \n",
    "\n",
    "#\n",
    "# YOUR CODE HERE\n",
    "#\n",
    "\n",
    "\n",
    "average_homicide_rates_by_race_and_year ={}    \n",
    "\n",
    "for i in np.unique(race_array):\n",
    "    year_list=[]\n",
    "    for j in np.unique(year_array):\n",
    "        year_mean = np.mean(homicide_rate_per_1000[(year_array==j)&(race_array==i)])\n",
    "        year_list.append(year_mean)\n",
    "    average_homicide_rates_by_race_and_year[i]=year_list\n",
    "\n",
    "average_homicide_rates_by_race_and_year      "
   ]
  },
  {
   "cell_type": "code",
   "execution_count": 112,
   "metadata": {
    "colab": [],
    "colab_type": "code",
    "id": "aAze5NtDq-Os",
    "nbgrader": {
     "grade": false,
     "locked": true,
     "solution": false
    }
   },
   "outputs": [
    {
     "data": {
      "text/plain": [
       "<seaborn.axisgrid.PairGrid at 0x7fdd501e0be0>"
      ]
     },
     "execution_count": 112,
     "metadata": {},
     "output_type": "execute_result"
    },
    {
     "data": {
      "image/png": "[encoded data removed]",
      "text/plain": [
       "<Figure size 498.875x360 with 1 Axes>"
      ]
     },
     "metadata": {},
     "output_type": "display_data"
    }
   ],
   "source": [
    "# VISUALIZATION AID 5: Homicides Rates by Racial Group/Year\n",
    "# If you did the previously problem correctly, you will see that\n",
    "# there are some clear variations between various racial groups.\n",
    "\n",
    "df = pd.DataFrame()\n",
    "\n",
    "for race, homicide_rates in average_homicide_rates_by_race_and_year.items():\n",
    "    df = pd.concat([df, pd.DataFrame({\n",
    "        'race': race,\n",
    "        'year': np.unique(year_array),\n",
    "        'homicide_rate': homicide_rates\n",
    "    })])\n",
    "df['year'] = pd.to_datetime(df['year'], format=\"%Y\")    \n",
    "\n",
    "import seaborn as sns\n",
    "sns.pairplot(x_vars=['year'], y_vars=['homicide_rate'], data=df, hue='race', height=5)"
   ]
  },
  {
   "cell_type": "code",
   "execution_count": null,
   "metadata": {
    "collapsed": true
   },
   "outputs": [],
   "source": []
  }
 ],
 "metadata": {
  "colab": {
   "collapsed_sections": [],
   "name": "A2.7: Module 2 Assessment.ipynb",
   "provenance": [],
   "version": "0.3.2"
  },
  "kernelspec": {
   "display_name": "Python 3",
   "language": "python",
   "name": "python3"
  },
  "language_info": {
   "codemirror_mode": {
    "name": "ipython",
    "version": 3
   },
   "file_extension": ".py",
   "mimetype": "text/x-python",
   "name": "python",
   "nbconvert_exporter": "python",
   "pygments_lexer": "ipython3",
   "version": "3.7.3"
  }
 },
 "nbformat": 4,
 "nbformat_minor": 1
}
